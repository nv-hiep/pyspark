{
  "nbformat": 4,
  "nbformat_minor": 0,
  "metadata": {
    "colab": {
      "name": "PySpark_Project_Bundesliga.ipynb",
      "provenance": [],
      "collapsed_sections": [],
      "authorship_tag": "ABX9TyN1O17Yo4uNCMn+yTeCDDbJ",
      "include_colab_link": true
    },
    "kernelspec": {
      "name": "python3",
      "display_name": "Python 3"
    },
    "language_info": {
      "name": "python"
    }
  },
  "cells": [
    {
      "cell_type": "markdown",
      "metadata": {
        "id": "view-in-github",
        "colab_type": "text"
      },
      "source": [
        "<a href=\"https://colab.research.google.com/github/nv-hiep/pyspark/blob/main/PySpark_Project_Bundesliga.ipynb\" target=\"_parent\"><img src=\"https://colab.research.google.com/assets/colab-badge.svg\" alt=\"Open In Colab\"/></a>"
      ]
    },
    {
      "cell_type": "code",
      "metadata": {
        "id": "0L4hgN7hAFDY"
      },
      "source": [
        "# innstall java\n",
        "!apt-get install openjdk-8-jdk-headless -qq > /dev/null\n",
        "\n",
        "# install spark (change the version number if needed)\n",
        "!wget -q http://archive.apache.org/dist/spark/spark-3.1.1/spark-3.1.1-bin-hadoop3.2.tgz\n",
        "\n",
        "# unzip the spark file to the current folder\n",
        "!tar xf spark-3.1.1-bin-hadoop3.2.tgz\n",
        "\n",
        "# set your spark folder to your system path environment. \n",
        "import os\n",
        "os.environ[\"JAVA_HOME\"] = \"/usr/lib/jvm/java-8-openjdk-amd64\"\n",
        "os.environ[\"SPARK_HOME\"] = \"/content/spark-3.1.1-bin-hadoop3.2\"\n",
        "\n",
        "\n",
        "# install findspark using pip\n",
        "!pip install -q findspark"
      ],
      "execution_count": null,
      "outputs": []
    },
    {
      "cell_type": "code",
      "metadata": {
        "id": "jIkr0btfBAKV"
      },
      "source": [
        "# For python users, you should also install pyspark using the following command.\n",
        "# !pip install pyspark"
      ],
      "execution_count": null,
      "outputs": []
    },
    {
      "cell_type": "markdown",
      "metadata": {
        "id": "KwrqMk3HiMiE"
      },
      "source": [
        "Run a local spark session to test your installation:"
      ]
    },
    {
      "cell_type": "code",
      "metadata": {
        "id": "gNDYsPt7-vZt"
      },
      "source": [
        "import findspark\n",
        "findspark.init()\n",
        "\n",
        "from pyspark import SparkContext\n",
        "from pyspark.sql import SparkSession, Window, Row\n",
        "\n",
        "from pyspark.sql.functions import *\n",
        "from pyspark.sql.types import *\n",
        "import matplotlib.pyplot as plt\n",
        "\n",
        "#https://spark.apache.org/docs/latest/sql-getting-started.html\n",
        "# spark = SparkSession.builder.master(\"local[*]\").getOrCreate()\n",
        "spark = SparkSession.builder.appName('PySpark').getOrCreate()\n",
        "spark.conf.set(\"spark.sql.repl.eagerEval.enabled\", True) # Property used to format output tables better\n",
        "spark"
      ],
      "execution_count": null,
      "outputs": []
    },
    {
      "cell_type": "code",
      "metadata": {
        "id": "pTwpgPWMO5fL"
      },
      "source": [
        "import urllib.request"
      ],
      "execution_count": null,
      "outputs": []
    },
    {
      "cell_type": "code",
      "metadata": {
        "id": "S0GhRJjlQ4lr"
      },
      "source": [
        "from pyspark.sql.functions import udf\n",
        "from pyspark.sql.types import IntegerType"
      ],
      "execution_count": null,
      "outputs": []
    },
    {
      "cell_type": "code",
      "metadata": {
        "id": "MKlnaqmsRAUe"
      },
      "source": [
        "! rm -rf spark-3.1.1-bin-hadoop3.2.tgz"
      ],
      "execution_count": null,
      "outputs": []
    },
    {
      "cell_type": "code",
      "metadata": {
        "colab": {
          "base_uri": "https://localhost:8080/"
        },
        "id": "J5CcsCk0Q-tp",
        "outputId": "0f085dd2-ff88-4a83-d6e0-c74e01540ca7"
      },
      "source": [
        "!ls"
      ],
      "execution_count": null,
      "outputs": [
        {
          "output_type": "stream",
          "text": [
            "sample_data  spark-3.1.1-bin-hadoop3.2\n"
          ],
          "name": "stdout"
        }
      ]
    },
    {
      "cell_type": "markdown",
      "metadata": {
        "id": "Dx7G8sW1vkmm"
      },
      "source": [
        "# Connect to Kaggle"
      ]
    },
    {
      "cell_type": "markdown",
      "metadata": {
        "id": "cxyJFFncxOBW"
      },
      "source": [
        "Ref: https://galhever.medium.com/how-to-import-data-from-kaggle-to-google-colab-8160caa11e2\n",
        "\n",
        "Install the Kaggle package that will be used for importing the data."
      ]
    },
    {
      "cell_type": "code",
      "metadata": {
        "id": "I9xGOCHVvsc5"
      },
      "source": [
        "# !pip install kaggle"
      ],
      "execution_count": null,
      "outputs": []
    },
    {
      "cell_type": "markdown",
      "metadata": {
        "id": "aZlu3-r7xTob"
      },
      "source": [
        "Next, we need to upload the credentials of our Kaggle account. To do so, you need to enter your profile and “Create New API Token”. If you already have one you can click on “Expire API Token” and create a new one."
      ]
    },
    {
      "cell_type": "markdown",
      "metadata": {
        "id": "Y4O574jDxYat"
      },
      "source": [
        "Then, save the json file with your credentials on your computer and upload this file to Colab using the code below:"
      ]
    },
    {
      "cell_type": "code",
      "metadata": {
        "id": "Yv47EYD-wUsj"
      },
      "source": [
        "# from google.colab import files\n",
        "# files.upload()"
      ],
      "execution_count": null,
      "outputs": []
    },
    {
      "cell_type": "markdown",
      "metadata": {
        "id": "DE1rRI0-whkh"
      },
      "source": [
        "The Kaggle API client expects the json file to be in ~/.kaggle folder so let’s create a new folder and move it inside."
      ]
    },
    {
      "cell_type": "code",
      "metadata": {
        "id": "0hh0iE-fwiPF"
      },
      "source": [
        "# !mkdir -p ~/.kaggle\n",
        "# !cp kaggle.json ~/.kaggle/\n",
        "# !chmod 600 ~/.kaggle/kaggle.json"
      ],
      "execution_count": null,
      "outputs": []
    },
    {
      "cell_type": "markdown",
      "metadata": {
        "id": "IDwBz_XBxH_4"
      },
      "source": [
        "Next, we will click on the three vertical points on the right side of the screen and “Copy the API Command” of the dataset that we want to import from Kaggle."
      ]
    },
    {
      "cell_type": "code",
      "metadata": {
        "id": "xThK2-mvw8vl"
      },
      "source": [
        "# !kaggle datasets download -d jessicali9530/celeba-dataset\n",
        "# !kaggle datasets download -d hesh97/titanicdataset-traincsv"
      ],
      "execution_count": null,
      "outputs": []
    },
    {
      "cell_type": "code",
      "metadata": {
        "id": "ka_Wn1Baxguf"
      },
      "source": [
        "# !pwd"
      ],
      "execution_count": null,
      "outputs": []
    },
    {
      "cell_type": "markdown",
      "metadata": {
        "id": "n9TzoR8axtBk"
      },
      "source": [
        "Let’s see the imported files:"
      ]
    },
    {
      "cell_type": "code",
      "metadata": {
        "id": "YPmpF5kpxeZt"
      },
      "source": [
        "# !ls"
      ],
      "execution_count": null,
      "outputs": []
    },
    {
      "cell_type": "markdown",
      "metadata": {
        "id": "f8LFQ5znx1kV"
      },
      "source": [
        "Now, the last step is to open the extracted files and get the data:"
      ]
    },
    {
      "cell_type": "code",
      "metadata": {
        "id": "CKRXyGTyx6fQ"
      },
      "source": [
        "# import zipfile\n",
        "# zip_ref = zipfile.ZipFile('titanicdataset-traincsv.zip', 'r')\n",
        "# zip_ref.extractall('files')\n",
        "# zip_ref.close()"
      ],
      "execution_count": null,
      "outputs": []
    },
    {
      "cell_type": "code",
      "metadata": {
        "id": "OpKid7YEyQwN"
      },
      "source": [
        "# !ls"
      ],
      "execution_count": null,
      "outputs": []
    },
    {
      "cell_type": "code",
      "metadata": {
        "id": "ca9HIbZymfID"
      },
      "source": [
        "# ! rm -rf titanicdataset-traincsv.zip"
      ],
      "execution_count": null,
      "outputs": []
    },
    {
      "cell_type": "code",
      "metadata": {
        "id": "S359CQfJmsaS"
      },
      "source": [
        "# !ls"
      ],
      "execution_count": null,
      "outputs": []
    },
    {
      "cell_type": "code",
      "metadata": {
        "id": "3xpRMM80yUnr"
      },
      "source": [
        "# % cd files"
      ],
      "execution_count": null,
      "outputs": []
    },
    {
      "cell_type": "code",
      "metadata": {
        "id": "NQSpv6teyX1D"
      },
      "source": [
        "# !ls"
      ],
      "execution_count": null,
      "outputs": []
    },
    {
      "cell_type": "markdown",
      "metadata": {
        "id": "4Cs42hfmywnc"
      },
      "source": [
        "That’s it! Now your data is ready and you can start working on it."
      ]
    },
    {
      "cell_type": "markdown",
      "metadata": {
        "id": "MsJftxC2OZ7G"
      },
      "source": [
        "# Load data"
      ]
    },
    {
      "cell_type": "code",
      "metadata": {
        "id": "alyws-P0RFzB"
      },
      "source": [
        "# def _round(x):\n",
        "#   return int(x)"
      ],
      "execution_count": null,
      "outputs": []
    },
    {
      "cell_type": "code",
      "metadata": {
        "id": "YfSz5bmnSGFW"
      },
      "source": [
        "# round_float_down_udf = udf(_round, IntegerType())"
      ],
      "execution_count": null,
      "outputs": []
    },
    {
      "cell_type": "code",
      "metadata": {
        "id": "iGOS94loRUb0"
      },
      "source": [
        "# titanic_df.select( titanic_df.PassengerId.alias('ID'), titanic_df.Fare, round_float_down_udf( titanic_df.Fare ).alias('RoundedFare')  ).show()"
      ],
      "execution_count": null,
      "outputs": []
    },
    {
      "cell_type": "code",
      "metadata": {
        "id": "ewzJT-xeSOw3"
      },
      "source": [
        "# Nice one here\n",
        "# titanic_df.createOrReplaceTempView(\"Titanic\")"
      ],
      "execution_count": null,
      "outputs": []
    },
    {
      "cell_type": "code",
      "metadata": {
        "id": "lXA_DC1KShEI"
      },
      "source": [
        "# spark.sql('Select * from Titanic').limit(5)"
      ],
      "execution_count": null,
      "outputs": []
    },
    {
      "cell_type": "code",
      "metadata": {
        "id": "wcqx5XsUSUVG"
      },
      "source": [
        "# spark.sql('SELECT COUNT(PassengerId), Pclass FROM Titanic GROUP BY Pclass;').limit(5)"
      ],
      "execution_count": null,
      "outputs": []
    },
    {
      "cell_type": "code",
      "metadata": {
        "id": "tW07FnP7TpC0"
      },
      "source": [
        "# spark.sql('SELECT COUNT(PassengerId), Pclass FROM Titanic GROUP BY Pclass ORDER BY COUNT(PassengerID) ASC;').limit(5)"
      ],
      "execution_count": null,
      "outputs": []
    },
    {
      "cell_type": "code",
      "metadata": {
        "id": "EXWyQjH7T13z"
      },
      "source": [
        "# spark.sql('SELECT COUNT(PassengerId), Pclass FROM Titanic GROUP BY Pclass ORDER BY COUNT(PassengerID) DESC;').limit(5)"
      ],
      "execution_count": null,
      "outputs": []
    },
    {
      "cell_type": "code",
      "metadata": {
        "colab": {
          "base_uri": "https://localhost:8080/"
        },
        "id": "o6lJE0MHpJPT",
        "outputId": "f8af98a2-2727-4de0-b059-a6baa06f4a1e"
      },
      "source": [
        "!ls"
      ],
      "execution_count": null,
      "outputs": [
        {
          "output_type": "stream",
          "text": [
            "sample_data  spark-3.1.1-bin-hadoop3.2\n"
          ],
          "name": "stdout"
        }
      ]
    },
    {
      "cell_type": "code",
      "metadata": {
        "id": "3ICBzdHSpgUe"
      },
      "source": [
        "DATA_PATH = '/content/sample_data/'\n",
        "DATA_DIR  = os.path.join(DATA_PATH, 'data')"
      ],
      "execution_count": null,
      "outputs": []
    },
    {
      "cell_type": "code",
      "metadata": {
        "id": "-qxsh4oGo8UB"
      },
      "source": [
        "# url = 'https://download.pytorch.org/tutorial/hymenoptera_data.zip'\n",
        "# if not os.path.exists(DATA_FILE):\n",
        "#   urllib.request.urlretrieve(url, DATA_FILE)\n",
        "\n",
        "# Read zipfile\n",
        "# zfile = zipfile.ZipFile(DATA_FILE)\n",
        "# zfile.extractall(DATA_PATH)\n",
        "# zfile.close()\n",
        "\n",
        "# os.remove(DATA_FILE)"
      ],
      "execution_count": null,
      "outputs": []
    },
    {
      "cell_type": "code",
      "metadata": {
        "id": "rLlDxfCRTbnz"
      },
      "source": [
        "if not os.path.exists(DATA_DIR):\n",
        "  os.mkdir(DATA_DIR)"
      ],
      "execution_count": null,
      "outputs": []
    },
    {
      "cell_type": "code",
      "metadata": {
        "id": "hjdlH-mBO09u"
      },
      "source": [
        "url = 'https://raw.githubusercontent.com/henokyemam/Wrangling_PySpark/main/Data/Matches.csv'\n",
        "match_file = os.path.join( DATA_DIR, os.path.split(url)[-1])\n",
        "\n",
        "if not os.path.exists(match_file):\n",
        "  filename, headers = urllib.request.urlretrieve(url, match_file)\n",
        "\n",
        "# print (\"download complete!\")\n",
        "# print (\"download file location: \", filename)\n",
        "# print (\"download headers: \", headers)\n",
        "\n",
        "url = 'https://raw.githubusercontent.com/henokyemam/Wrangling_PySpark/main/Data/Teams.csv'\n",
        "team_file = os.path.join( DATA_DIR, os.path.split(url)[-1])\n",
        "if not os.path.exists(team_file):\n",
        "  filename, headers = urllib.request.urlretrieve(url, team_file)\n",
        "\n",
        "\n",
        "url = 'https://raw.githubusercontent.com/henokyemam/Wrangling_PySpark/main/Data/Teams_in_Matches.csv'\n",
        "team_match_file = os.path.join( DATA_DIR, os.path.split(url)[-1])\n",
        "if not os.path.exists(team_match_file):\n",
        "  filename, headers = urllib.request.urlretrieve(url, team_match_file)\n",
        "\n",
        "\n",
        "\n",
        "url = 'https://raw.githubusercontent.com/henokyemam/Wrangling_PySpark/main/Data/Unique_Teams.csv'\n",
        "unique_team_file = os.path.join( DATA_DIR, os.path.split(url)[-1])\n",
        "if not os.path.exists(unique_team_file):\n",
        "  filename, headers = urllib.request.urlretrieve(url, unique_team_file)"
      ],
      "execution_count": null,
      "outputs": []
    },
    {
      "cell_type": "code",
      "metadata": {
        "id": "8i-MUSXTZ1sc"
      },
      "source": [
        "def load_dataframe(xfile):\n",
        "  df = spark.read.format('csv').options(header='true').load(xfile)\n",
        "  return df"
      ],
      "execution_count": null,
      "outputs": []
    },
    {
      "cell_type": "markdown",
      "metadata": {
        "id": "8yoXI0ravwYV"
      },
      "source": [
        "# Unique teams"
      ]
    },
    {
      "cell_type": "code",
      "metadata": {
        "colab": {
          "base_uri": "https://localhost:8080/"
        },
        "id": "G6XQsdhavvy3",
        "outputId": "774f6eb0-7826-4650-8c2e-379a2dc9c61d"
      },
      "source": [
        "df_unique_teams = load_dataframe(unique_team_file)\n",
        "print('Number of unique teams: ', df_unique_teams.count())\n",
        "df_unique_teams.show()"
      ],
      "execution_count": null,
      "outputs": [
        {
          "output_type": "stream",
          "text": [
            "Number of unique teams:  128\n",
            "+-------------+--------------+\n",
            "|     TeamName|Unique_Team_ID|\n",
            "+-------------+--------------+\n",
            "|Bayern Munich|             1|\n",
            "|     Dortmund|             2|\n",
            "|   Leverkusen|             3|\n",
            "|   RB Leipzig|             4|\n",
            "|   Schalke 04|             5|\n",
            "|   M'gladbach|             6|\n",
            "|    Wolfsburg|             7|\n",
            "|      FC Koln|             8|\n",
            "|   Hoffenheim|             9|\n",
            "|       Hertha|            10|\n",
            "|        Mainz|            11|\n",
            "|      Hamburg|            12|\n",
            "|Werder Bremen|            13|\n",
            "|Ein Frankfurt|            14|\n",
            "|     Augsburg|            15|\n",
            "|     Freiburg|            16|\n",
            "|    Stuttgart|            17|\n",
            "|     Hannover|            18|\n",
            "|   Ingolstadt|            19|\n",
            "|    Darmstadt|            20|\n",
            "+-------------+--------------+\n",
            "only showing top 20 rows\n",
            "\n"
          ],
          "name": "stdout"
        }
      ]
    },
    {
      "cell_type": "markdown",
      "metadata": {
        "id": "RwZvDZLjvZXE"
      },
      "source": [
        "# Teams"
      ]
    },
    {
      "cell_type": "code",
      "metadata": {
        "colab": {
          "base_uri": "https://localhost:8080/"
        },
        "id": "5-QbYUr5vdEO",
        "outputId": "ad09718f-3412-47c4-d13e-30c56794bfa9"
      },
      "source": [
        "df_teams = load_dataframe(team_file)\n",
        "df_teams.show()"
      ],
      "execution_count": null,
      "outputs": [
        {
          "output_type": "stream",
          "text": [
            "+------+-------------+---------+----------+------------------+----------------------+------------------+---------------+\n",
            "|Season|     TeamName|KaderHome|AvgAgeHome|ForeignPlayersHome|OverallMarketValueHome|AvgMarketValueHome|StadiumCapacity|\n",
            "+------+-------------+---------+----------+------------------+----------------------+------------------+---------------+\n",
            "|  2017|Bayern Munich|       27|        26|                15|             597950000|          22150000|          75000|\n",
            "|  2017|     Dortmund|       33|        25|                18|             416730000|          12630000|          81359|\n",
            "|  2017|   Leverkusen|       31|        24|                15|             222600000|           7180000|          30210|\n",
            "|  2017|   RB Leipzig|       30|        23|                15|             180130000|           6000000|          42959|\n",
            "|  2017|   Schalke 04|       29|        24|                17|             179550000|           6190000|          62271|\n",
            "|  2017|   M'gladbach|       31|        25|                17|             154400000|           4980000|          54014|\n",
            "|  2017|    Wolfsburg|       31|        24|                14|             124430000|           4010000|          30000|\n",
            "|  2017|      FC Koln|       24|        26|                 9|             118550000|           4940000|          49968|\n",
            "|  2017|   Hoffenheim|       31|        24|                14|             107330000|           3460000|          30164|\n",
            "|  2017|       Hertha|       26|        26|                12|              86800000|           3340000|          74475|\n",
            "|  2017|        Mainz|       31|        25|                16|              71950000|           2320000|          34000|\n",
            "|  2017|      Hamburg|       31|        25|                15|              71550000|           2310000|          57376|\n",
            "|  2017|Werder Bremen|       32|        26|                19|              69450000|           2170000|          42100|\n",
            "|  2017|Ein Frankfurt|       34|        24|                18|              67100000|           1970000|          51500|\n",
            "|  2017|     Augsburg|       36|        26|                20|              63100000|           1750000|          30660|\n",
            "|  2017|     Freiburg|       26|        26|                 8|              57730000|           2220000|          24000|\n",
            "|  2017|    Stuttgart|       24|        24|                16|              44750000|           1860000|          60449|\n",
            "|  2017|     Hannover|       31|        25|                13|              43100000|           1390000|          49200|\n",
            "|  2016|Bayern Munich|       33|        25|                18|             595400000|          18040000|          75000|\n",
            "|  2016|     Dortmund|       32|        24|                17|             321550000|          10050000|          81359|\n",
            "+------+-------------+---------+----------+------------------+----------------------+------------------+---------------+\n",
            "only showing top 20 rows\n",
            "\n"
          ],
          "name": "stdout"
        }
      ]
    },
    {
      "cell_type": "markdown",
      "metadata": {
        "id": "H1dWj2bUwY1p"
      },
      "source": [
        "# Teams in matches"
      ]
    },
    {
      "cell_type": "code",
      "metadata": {
        "colab": {
          "base_uri": "https://localhost:8080/"
        },
        "id": "1OFcqio-wbJz",
        "outputId": "ed4d7c02-aeaf-4c84-ad04-30d16d738a93"
      },
      "source": [
        "df_team_in_match = load_dataframe(team_match_file)\n",
        "print('Number of matches: ', df_team_in_match.count())\n",
        "df_team_in_match.show()"
      ],
      "execution_count": null,
      "outputs": [
        {
          "output_type": "stream",
          "text": [
            "Number of matches:  49148\n",
            "+--------+--------------+\n",
            "|Match_ID|Unique_Team_ID|\n",
            "+--------+--------------+\n",
            "|       1|            26|\n",
            "|       1|            46|\n",
            "|       2|            26|\n",
            "|       2|            42|\n",
            "|       3|            26|\n",
            "|       3|            44|\n",
            "|       4|            29|\n",
            "|       4|            44|\n",
            "|       5|            29|\n",
            "|       5|            49|\n",
            "|       6|            29|\n",
            "|       6|            35|\n",
            "|       7|            21|\n",
            "|       7|            29|\n",
            "|       8|            29|\n",
            "|       8|            30|\n",
            "|       9|            26|\n",
            "|       9|            29|\n",
            "|      10|            29|\n",
            "|      10|            33|\n",
            "+--------+--------------+\n",
            "only showing top 20 rows\n",
            "\n"
          ],
          "name": "stdout"
        }
      ]
    },
    {
      "cell_type": "markdown",
      "metadata": {
        "id": "pJ1CUbIhvW-d"
      },
      "source": [
        "# Matches"
      ]
    },
    {
      "cell_type": "code",
      "metadata": {
        "colab": {
          "base_uri": "https://localhost:8080/"
        },
        "id": "K49La5YKZLZR",
        "outputId": "b0ad0281-467b-454e-a30d-a7004be8aeda"
      },
      "source": [
        "#creating a dataframe\n",
        "df_matches = load_dataframe(match_file)\n",
        "df_matches.limit(5).show()"
      ],
      "execution_count": null,
      "outputs": [
        {
          "output_type": "stream",
          "text": [
            "+--------+---+------+----------+-------------+--------------+----+----+---+\n",
            "|Match_ID|Div|Season|      Date|     HomeTeam|      AwayTeam|FTHG|FTAG|FTR|\n",
            "+--------+---+------+----------+-------------+--------------+----+----+---+\n",
            "|       1| D2|  2009|2010-04-04|   Oberhausen|Kaiserslautern|   2|   1|  H|\n",
            "|       2| D2|  2009|2009-11-01|  Munich 1860|Kaiserslautern|   0|   1|  A|\n",
            "|       3| D2|  2009|2009-10-04|Frankfurt FSV|Kaiserslautern|   1|   1|  D|\n",
            "|       4| D2|  2009|2010-02-21|Frankfurt FSV|     Karlsruhe|   2|   1|  H|\n",
            "|       5| D2|  2009|2009-12-06|        Ahlen|     Karlsruhe|   1|   3|  A|\n",
            "+--------+---+------+----------+-------------+--------------+----+----+---+\n",
            "\n"
          ],
          "name": "stdout"
        }
      ]
    },
    {
      "cell_type": "code",
      "metadata": {
        "colab": {
          "base_uri": "https://localhost:8080/"
        },
        "id": "_8alYrwxaEpq",
        "outputId": "2e37febe-ba25-44f3-9560-9ff0fcd808d5"
      },
      "source": [
        "current_cols = df_matches.columns[-3:]\n",
        "new_cols     = ['HomeTeamGoals', 'AwayTeamGoals', 'FinalResult']\n",
        "\n",
        "for old_col, new_col in zip(current_cols, new_cols):\n",
        "  df_matches = df_matches.withColumnRenamed(old_col, new_col)\n",
        "\n",
        "df_matches.columns"
      ],
      "execution_count": null,
      "outputs": [
        {
          "output_type": "execute_result",
          "data": {
            "text/plain": [
              "['Match_ID',\n",
              " 'Div',\n",
              " 'Season',\n",
              " 'Date',\n",
              " 'HomeTeam',\n",
              " 'AwayTeam',\n",
              " 'HomeTeamGoals',\n",
              " 'AwayTeamGoals',\n",
              " 'FinalResult']"
            ]
          },
          "metadata": {
            "tags": []
          },
          "execution_count": 38
        }
      ]
    },
    {
      "cell_type": "code",
      "metadata": {
        "colab": {
          "base_uri": "https://localhost:8080/",
          "height": 205
        },
        "id": "5lewbB9DdDQ3",
        "outputId": "e756f634-0922-4f01-d61c-fa060d5e17b5"
      },
      "source": [
        "df_matches.limit(5).toPandas()"
      ],
      "execution_count": null,
      "outputs": [
        {
          "output_type": "execute_result",
          "data": {
            "text/html": [
              "<div>\n",
              "<style scoped>\n",
              "    .dataframe tbody tr th:only-of-type {\n",
              "        vertical-align: middle;\n",
              "    }\n",
              "\n",
              "    .dataframe tbody tr th {\n",
              "        vertical-align: top;\n",
              "    }\n",
              "\n",
              "    .dataframe thead th {\n",
              "        text-align: right;\n",
              "    }\n",
              "</style>\n",
              "<table border=\"1\" class=\"dataframe\">\n",
              "  <thead>\n",
              "    <tr style=\"text-align: right;\">\n",
              "      <th></th>\n",
              "      <th>Match_ID</th>\n",
              "      <th>Div</th>\n",
              "      <th>Season</th>\n",
              "      <th>Date</th>\n",
              "      <th>HomeTeam</th>\n",
              "      <th>AwayTeam</th>\n",
              "      <th>HomeTeamGoals</th>\n",
              "      <th>AwayTeamGoals</th>\n",
              "      <th>FinalResult</th>\n",
              "    </tr>\n",
              "  </thead>\n",
              "  <tbody>\n",
              "    <tr>\n",
              "      <th>0</th>\n",
              "      <td>1</td>\n",
              "      <td>D2</td>\n",
              "      <td>2009</td>\n",
              "      <td>2010-04-04</td>\n",
              "      <td>Oberhausen</td>\n",
              "      <td>Kaiserslautern</td>\n",
              "      <td>2</td>\n",
              "      <td>1</td>\n",
              "      <td>H</td>\n",
              "    </tr>\n",
              "    <tr>\n",
              "      <th>1</th>\n",
              "      <td>2</td>\n",
              "      <td>D2</td>\n",
              "      <td>2009</td>\n",
              "      <td>2009-11-01</td>\n",
              "      <td>Munich 1860</td>\n",
              "      <td>Kaiserslautern</td>\n",
              "      <td>0</td>\n",
              "      <td>1</td>\n",
              "      <td>A</td>\n",
              "    </tr>\n",
              "    <tr>\n",
              "      <th>2</th>\n",
              "      <td>3</td>\n",
              "      <td>D2</td>\n",
              "      <td>2009</td>\n",
              "      <td>2009-10-04</td>\n",
              "      <td>Frankfurt FSV</td>\n",
              "      <td>Kaiserslautern</td>\n",
              "      <td>1</td>\n",
              "      <td>1</td>\n",
              "      <td>D</td>\n",
              "    </tr>\n",
              "    <tr>\n",
              "      <th>3</th>\n",
              "      <td>4</td>\n",
              "      <td>D2</td>\n",
              "      <td>2009</td>\n",
              "      <td>2010-02-21</td>\n",
              "      <td>Frankfurt FSV</td>\n",
              "      <td>Karlsruhe</td>\n",
              "      <td>2</td>\n",
              "      <td>1</td>\n",
              "      <td>H</td>\n",
              "    </tr>\n",
              "    <tr>\n",
              "      <th>4</th>\n",
              "      <td>5</td>\n",
              "      <td>D2</td>\n",
              "      <td>2009</td>\n",
              "      <td>2009-12-06</td>\n",
              "      <td>Ahlen</td>\n",
              "      <td>Karlsruhe</td>\n",
              "      <td>1</td>\n",
              "      <td>3</td>\n",
              "      <td>A</td>\n",
              "    </tr>\n",
              "  </tbody>\n",
              "</table>\n",
              "</div>"
            ],
            "text/plain": [
              "  Match_ID Div Season  ... HomeTeamGoals AwayTeamGoals FinalResult\n",
              "0        1  D2   2009  ...             2             1           H\n",
              "1        2  D2   2009  ...             0             1           A\n",
              "2        3  D2   2009  ...             1             1           D\n",
              "3        4  D2   2009  ...             2             1           H\n",
              "4        5  D2   2009  ...             1             3           A\n",
              "\n",
              "[5 rows x 9 columns]"
            ]
          },
          "metadata": {
            "tags": []
          },
          "execution_count": 39
        }
      ]
    },
    {
      "cell_type": "code",
      "metadata": {
        "colab": {
          "base_uri": "https://localhost:8080/"
        },
        "id": "ojiV2tdwB6jW",
        "outputId": "921cb83d-5780-4a3a-b89f-0940bdee7082"
      },
      "source": [
        "# Count the null values in each column\n",
        "df_matches.select( [ count( when(isnan(xcol), xcol) ).alias(xcol) for xcol in df_matches.columns ] ).show()"
      ],
      "execution_count": null,
      "outputs": [
        {
          "output_type": "stream",
          "text": [
            "+--------+---+------+----+--------+--------+-------------+-------------+-----------+\n",
            "|Match_ID|Div|Season|Date|HomeTeam|AwayTeam|HomeTeamGoals|AwayTeamGoals|FinalResult|\n",
            "+--------+---+------+----+--------+--------+-------------+-------------+-----------+\n",
            "|       0|  0|     0|   0|       0|       0|            0|            0|          0|\n",
            "+--------+---+------+----+--------+--------+-------------+-------------+-----------+\n",
            "\n"
          ],
          "name": "stdout"
        }
      ]
    },
    {
      "cell_type": "code",
      "metadata": {
        "colab": {
          "base_uri": "https://localhost:8080/",
          "height": 81
        },
        "id": "5rTNtqk4e3He",
        "outputId": "ba9ec8e7-1d64-4021-f3b5-e92430418b76"
      },
      "source": [
        "# finding the null count in each column\n",
        "df_matches.select([count(when(isnan(column), column)).alias(column) for column in df_matches.columns]).toPandas()\n",
        "# [df_matches.filter(col(column).isNull()).count() for column in df_matches.columns]"
      ],
      "execution_count": null,
      "outputs": [
        {
          "output_type": "execute_result",
          "data": {
            "text/html": [
              "<div>\n",
              "<style scoped>\n",
              "    .dataframe tbody tr th:only-of-type {\n",
              "        vertical-align: middle;\n",
              "    }\n",
              "\n",
              "    .dataframe tbody tr th {\n",
              "        vertical-align: top;\n",
              "    }\n",
              "\n",
              "    .dataframe thead th {\n",
              "        text-align: right;\n",
              "    }\n",
              "</style>\n",
              "<table border=\"1\" class=\"dataframe\">\n",
              "  <thead>\n",
              "    <tr style=\"text-align: right;\">\n",
              "      <th></th>\n",
              "      <th>Match_ID</th>\n",
              "      <th>Div</th>\n",
              "      <th>Season</th>\n",
              "      <th>Date</th>\n",
              "      <th>HomeTeam</th>\n",
              "      <th>AwayTeam</th>\n",
              "      <th>HomeTeamGoals</th>\n",
              "      <th>AwayTeamGoals</th>\n",
              "      <th>FinalResult</th>\n",
              "    </tr>\n",
              "  </thead>\n",
              "  <tbody>\n",
              "    <tr>\n",
              "      <th>0</th>\n",
              "      <td>0</td>\n",
              "      <td>0</td>\n",
              "      <td>0</td>\n",
              "      <td>0</td>\n",
              "      <td>0</td>\n",
              "      <td>0</td>\n",
              "      <td>0</td>\n",
              "      <td>0</td>\n",
              "      <td>0</td>\n",
              "    </tr>\n",
              "  </tbody>\n",
              "</table>\n",
              "</div>"
            ],
            "text/plain": [
              "   Match_ID  Div  Season  ...  HomeTeamGoals  AwayTeamGoals  FinalResult\n",
              "0         0    0       0  ...              0              0            0\n",
              "\n",
              "[1 rows x 9 columns]"
            ]
          },
          "metadata": {
            "tags": []
          },
          "execution_count": 41
        }
      ]
    },
    {
      "cell_type": "code",
      "metadata": {
        "colab": {
          "base_uri": "https://localhost:8080/"
        },
        "id": "30HPh782fGg_",
        "outputId": "dea3ec84-e2f3-4d32-abaa-e85cc416e6ca"
      },
      "source": [
        "# Comparing it to Pandas\n",
        "df_matches.toPandas().isnull().sum()"
      ],
      "execution_count": null,
      "outputs": [
        {
          "output_type": "execute_result",
          "data": {
            "text/plain": [
              "Match_ID         0\n",
              "Div              0\n",
              "Season           0\n",
              "Date             0\n",
              "HomeTeam         0\n",
              "AwayTeam         0\n",
              "HomeTeamGoals    0\n",
              "AwayTeamGoals    0\n",
              "FinalResult      0\n",
              "dtype: int64"
            ]
          },
          "metadata": {
            "tags": []
          },
          "execution_count": 42
        }
      ]
    },
    {
      "cell_type": "markdown",
      "metadata": {
        "id": "Gi5SzaN6dtHx"
      },
      "source": [
        "# Q1. Who are the winners of the D1 division in the Germany Football Association (Bundesliga) between 2000–2010?"
      ]
    },
    {
      "cell_type": "code",
      "metadata": {
        "colab": {
          "base_uri": "https://localhost:8080/",
          "height": 523
        },
        "id": "v-zOhrDiDrId",
        "outputId": "baf6dcfd-0d5f-48ee-f9b6-38916d8efb38"
      },
      "source": [
        "df_matches.where( df_matches['Season'] == 2017 )"
      ],
      "execution_count": null,
      "outputs": [
        {
          "output_type": "execute_result",
          "data": {
            "text/html": [
              "<table border='1'>\n",
              "<tr><th>Match_ID</th><th>Div</th><th>Season</th><th>Date</th><th>HomeTeam</th><th>AwayTeam</th><th>HomeTeamGoals</th><th>AwayTeamGoals</th><th>FinalResult</th></tr>\n",
              "<tr><td>4764</td><td>D1</td><td>2017</td><td>2018-01-15</td><td>Leverkusen</td><td>Bayern Munich</td><td>-1</td><td>-1</td><td>H</td></tr>\n",
              "<tr><td>4765</td><td>D1</td><td>2017</td><td>2018-02-05</td><td>Mainz</td><td>Bayern Munich</td><td>-1</td><td>-1</td><td>H</td></tr>\n",
              "<tr><td>4766</td><td>D1</td><td>2017</td><td>2018-04-23</td><td>Hannover</td><td>Bayern Munich</td><td>-1</td><td>-1</td><td>H</td></tr>\n",
              "<tr><td>4767</td><td>D1</td><td>2017</td><td>2017-10-22</td><td>Hamburg</td><td>Bayern Munich</td><td>-1</td><td>-1</td><td>H</td></tr>\n",
              "<tr><td>4768</td><td>D1</td><td>2017</td><td>2018-02-19</td><td>Wolfsburg</td><td>Bayern Munich</td><td>-1</td><td>-1</td><td>H</td></tr>\n",
              "<tr><td>4769</td><td>D1</td><td>2017</td><td>2017-09-10</td><td>Hoffenheim</td><td>Bayern Munich</td><td>-1</td><td>-1</td><td>H</td></tr>\n",
              "<tr><td>4770</td><td>D1</td><td>2017</td><td>2018-05-05</td><td>FC Koln</td><td>Bayern Munich</td><td>-1</td><td>-1</td><td>H</td></tr>\n",
              "<tr><td>4771</td><td>D1</td><td>2017</td><td>2018-03-05</td><td>Freiburg</td><td>Bayern Munich</td><td>-1</td><td>-1</td><td>H</td></tr>\n",
              "<tr><td>4772</td><td>D1</td><td>2017</td><td>2017-09-20</td><td>Schalke 04</td><td>Bayern Munich</td><td>-1</td><td>-1</td><td>H</td></tr>\n",
              "<tr><td>4773</td><td>D1</td><td>2017</td><td>2017-12-10</td><td>Ein Frankfurt</td><td>Bayern Munich</td><td>-1</td><td>-1</td><td>H</td></tr>\n",
              "<tr><td>4774</td><td>D1</td><td>2017</td><td>2018-04-09</td><td>Augsburg</td><td>Bayern Munich</td><td>-1</td><td>-1</td><td>H</td></tr>\n",
              "<tr><td>4775</td><td>D1</td><td>2017</td><td>2017-08-27</td><td>Werder Bremen</td><td>Bayern Munich</td><td>-1</td><td>-1</td><td>H</td></tr>\n",
              "<tr><td>4776</td><td>D1</td><td>2017</td><td>2018-03-18</td><td>RB Leipzig</td><td>Bayern Munich</td><td>-1</td><td>-1</td><td>H</td></tr>\n",
              "<tr><td>4777</td><td>D1</td><td>2017</td><td>2017-11-27</td><td>M&#x27;gladbach</td><td>Bayern Munich</td><td>-1</td><td>-1</td><td>H</td></tr>\n",
              "<tr><td>4778</td><td>D1</td><td>2017</td><td>2017-12-17</td><td>Stuttgart</td><td>Bayern Munich</td><td>-1</td><td>-1</td><td>H</td></tr>\n",
              "<tr><td>4779</td><td>D1</td><td>2017</td><td>2017-10-01</td><td>Hertha</td><td>Bayern Munich</td><td>-1</td><td>-1</td><td>H</td></tr>\n",
              "<tr><td>4780</td><td>D1</td><td>2017</td><td>2017-11-05</td><td>Dortmund</td><td>Bayern Munich</td><td>-1</td><td>-1</td><td>H</td></tr>\n",
              "<tr><td>4781</td><td>D1</td><td>2017</td><td>2017-10-29</td><td>Hannover</td><td>Dortmund</td><td>-1</td><td>-1</td><td>H</td></tr>\n",
              "<tr><td>4782</td><td>D1</td><td>2017</td><td>2018-04-30</td><td>Werder Bremen</td><td>Dortmund</td><td>-1</td><td>-1</td><td>H</td></tr>\n",
              "<tr><td>4783</td><td>D1</td><td>2017</td><td>2018-02-05</td><td>FC Koln</td><td>Dortmund</td><td>-1</td><td>-1</td><td>H</td></tr>\n",
              "</table>\n",
              "only showing top 20 rows\n"
            ],
            "text/plain": [
              "+--------+---+------+----------+-------------+-------------+-------------+-------------+-----------+\n",
              "|Match_ID|Div|Season|      Date|     HomeTeam|     AwayTeam|HomeTeamGoals|AwayTeamGoals|FinalResult|\n",
              "+--------+---+------+----------+-------------+-------------+-------------+-------------+-----------+\n",
              "|    4764| D1|  2017|2018-01-15|   Leverkusen|Bayern Munich|           -1|           -1|          H|\n",
              "|    4765| D1|  2017|2018-02-05|        Mainz|Bayern Munich|           -1|           -1|          H|\n",
              "|    4766| D1|  2017|2018-04-23|     Hannover|Bayern Munich|           -1|           -1|          H|\n",
              "|    4767| D1|  2017|2017-10-22|      Hamburg|Bayern Munich|           -1|           -1|          H|\n",
              "|    4768| D1|  2017|2018-02-19|    Wolfsburg|Bayern Munich|           -1|           -1|          H|\n",
              "|    4769| D1|  2017|2017-09-10|   Hoffenheim|Bayern Munich|           -1|           -1|          H|\n",
              "|    4770| D1|  2017|2018-05-05|      FC Koln|Bayern Munich|           -1|           -1|          H|\n",
              "|    4771| D1|  2017|2018-03-05|     Freiburg|Bayern Munich|           -1|           -1|          H|\n",
              "|    4772| D1|  2017|2017-09-20|   Schalke 04|Bayern Munich|           -1|           -1|          H|\n",
              "|    4773| D1|  2017|2017-12-10|Ein Frankfurt|Bayern Munich|           -1|           -1|          H|\n",
              "|    4774| D1|  2017|2018-04-09|     Augsburg|Bayern Munich|           -1|           -1|          H|\n",
              "|    4775| D1|  2017|2017-08-27|Werder Bremen|Bayern Munich|           -1|           -1|          H|\n",
              "|    4776| D1|  2017|2018-03-18|   RB Leipzig|Bayern Munich|           -1|           -1|          H|\n",
              "|    4777| D1|  2017|2017-11-27|   M'gladbach|Bayern Munich|           -1|           -1|          H|\n",
              "|    4778| D1|  2017|2017-12-17|    Stuttgart|Bayern Munich|           -1|           -1|          H|\n",
              "|    4779| D1|  2017|2017-10-01|       Hertha|Bayern Munich|           -1|           -1|          H|\n",
              "|    4780| D1|  2017|2017-11-05|     Dortmund|Bayern Munich|           -1|           -1|          H|\n",
              "|    4781| D1|  2017|2017-10-29|     Hannover|     Dortmund|           -1|           -1|          H|\n",
              "|    4782| D1|  2017|2018-04-30|Werder Bremen|     Dortmund|           -1|           -1|          H|\n",
              "|    4783| D1|  2017|2018-02-05|      FC Koln|     Dortmund|           -1|           -1|          H|\n",
              "+--------+---+------+----------+-------------+-------------+-------------+-------------+-----------+\n",
              "only showing top 20 rows"
            ]
          },
          "metadata": {
            "tags": []
          },
          "execution_count": 43
        }
      ]
    },
    {
      "cell_type": "code",
      "metadata": {
        "colab": {
          "base_uri": "https://localhost:8080/",
          "height": 422
        },
        "id": "i83DtcdZgmBQ",
        "outputId": "938ee2e7-69f1-4b04-b6ad-cb9ad873e894"
      },
      "source": [
        "# bundesliga is a D1 division and we are interested in season <= 2010 and >= 2000\n",
        "bundesliga = df_matches.select('*').where( (col('Div') == 'D1') & (col('HomeTeamGoals') > -1) & (col('AwayTeamGoals') > -1) ).drop('Div', 'Match_ID', 'Date').orderBy('Season')\n",
        "bundesliga.toPandas()"
      ],
      "execution_count": null,
      "outputs": [
        {
          "output_type": "execute_result",
          "data": {
            "text/html": [
              "<div>\n",
              "<style scoped>\n",
              "    .dataframe tbody tr th:only-of-type {\n",
              "        vertical-align: middle;\n",
              "    }\n",
              "\n",
              "    .dataframe tbody tr th {\n",
              "        vertical-align: top;\n",
              "    }\n",
              "\n",
              "    .dataframe thead th {\n",
              "        text-align: right;\n",
              "    }\n",
              "</style>\n",
              "<table border=\"1\" class=\"dataframe\">\n",
              "  <thead>\n",
              "    <tr style=\"text-align: right;\">\n",
              "      <th></th>\n",
              "      <th>Season</th>\n",
              "      <th>HomeTeam</th>\n",
              "      <th>AwayTeam</th>\n",
              "      <th>HomeTeamGoals</th>\n",
              "      <th>AwayTeamGoals</th>\n",
              "      <th>FinalResult</th>\n",
              "    </tr>\n",
              "  </thead>\n",
              "  <tbody>\n",
              "    <tr>\n",
              "      <th>0</th>\n",
              "      <td>1993</td>\n",
              "      <td>Bayern Munich</td>\n",
              "      <td>Freiburg</td>\n",
              "      <td>3</td>\n",
              "      <td>1</td>\n",
              "      <td>H</td>\n",
              "    </tr>\n",
              "    <tr>\n",
              "      <th>1</th>\n",
              "      <td>1993</td>\n",
              "      <td>Dortmund</td>\n",
              "      <td>Karlsruhe</td>\n",
              "      <td>2</td>\n",
              "      <td>1</td>\n",
              "      <td>H</td>\n",
              "    </tr>\n",
              "    <tr>\n",
              "      <th>2</th>\n",
              "      <td>1993</td>\n",
              "      <td>Duisburg</td>\n",
              "      <td>Leverkusen</td>\n",
              "      <td>2</td>\n",
              "      <td>2</td>\n",
              "      <td>D</td>\n",
              "    </tr>\n",
              "    <tr>\n",
              "      <th>3</th>\n",
              "      <td>1993</td>\n",
              "      <td>FC Koln</td>\n",
              "      <td>Kaiserslautern</td>\n",
              "      <td>0</td>\n",
              "      <td>2</td>\n",
              "      <td>A</td>\n",
              "    </tr>\n",
              "    <tr>\n",
              "      <th>4</th>\n",
              "      <td>1993</td>\n",
              "      <td>Hamburg</td>\n",
              "      <td>Nurnberg</td>\n",
              "      <td>5</td>\n",
              "      <td>2</td>\n",
              "      <td>H</td>\n",
              "    </tr>\n",
              "    <tr>\n",
              "      <th>...</th>\n",
              "      <td>...</td>\n",
              "      <td>...</td>\n",
              "      <td>...</td>\n",
              "      <td>...</td>\n",
              "      <td>...</td>\n",
              "      <td>...</td>\n",
              "    </tr>\n",
              "    <tr>\n",
              "      <th>7339</th>\n",
              "      <td>2016</td>\n",
              "      <td>FC Koln</td>\n",
              "      <td>RB Leipzig</td>\n",
              "      <td>1</td>\n",
              "      <td>1</td>\n",
              "      <td>D</td>\n",
              "    </tr>\n",
              "    <tr>\n",
              "      <th>7340</th>\n",
              "      <td>2016</td>\n",
              "      <td>Ingolstadt</td>\n",
              "      <td>RB Leipzig</td>\n",
              "      <td>1</td>\n",
              "      <td>0</td>\n",
              "      <td>H</td>\n",
              "    </tr>\n",
              "    <tr>\n",
              "      <th>7341</th>\n",
              "      <td>2016</td>\n",
              "      <td>Dortmund</td>\n",
              "      <td>RB Leipzig</td>\n",
              "      <td>1</td>\n",
              "      <td>0</td>\n",
              "      <td>H</td>\n",
              "    </tr>\n",
              "    <tr>\n",
              "      <th>7342</th>\n",
              "      <td>2016</td>\n",
              "      <td>Hamburg</td>\n",
              "      <td>RB Leipzig</td>\n",
              "      <td>0</td>\n",
              "      <td>4</td>\n",
              "      <td>A</td>\n",
              "    </tr>\n",
              "    <tr>\n",
              "      <th>7343</th>\n",
              "      <td>2016</td>\n",
              "      <td>Ein Frankfurt</td>\n",
              "      <td>RB Leipzig</td>\n",
              "      <td>2</td>\n",
              "      <td>2</td>\n",
              "      <td>D</td>\n",
              "    </tr>\n",
              "  </tbody>\n",
              "</table>\n",
              "<p>7344 rows × 6 columns</p>\n",
              "</div>"
            ],
            "text/plain": [
              "     Season       HomeTeam  ... AwayTeamGoals FinalResult\n",
              "0      1993  Bayern Munich  ...             1           H\n",
              "1      1993       Dortmund  ...             1           H\n",
              "2      1993       Duisburg  ...             2           D\n",
              "3      1993        FC Koln  ...             2           A\n",
              "4      1993        Hamburg  ...             2           H\n",
              "...     ...            ...  ...           ...         ...\n",
              "7339   2016        FC Koln  ...             1           D\n",
              "7340   2016     Ingolstadt  ...             0           H\n",
              "7341   2016       Dortmund  ...             0           H\n",
              "7342   2016        Hamburg  ...             4           A\n",
              "7343   2016  Ein Frankfurt  ...             2           D\n",
              "\n",
              "[7344 rows x 6 columns]"
            ]
          },
          "metadata": {
            "tags": []
          },
          "execution_count": 44
        }
      ]
    },
    {
      "cell_type": "code",
      "metadata": {
        "colab": {
          "base_uri": "https://localhost:8080/"
        },
        "id": "BZk6YURHFgme",
        "outputId": "a823d694-cbff-4084-ad88-83b0cd822a0a"
      },
      "source": [
        "bundesliga = bundesliga.withColumn( 'HomeWin', when(col('FinalResult') == 'H', 1).otherwise(0) ).\\\n",
        "                        withColumn( 'AwayWin', when(col('FinalResult') == 'A', 1).otherwise(0) ).\\\n",
        "                        withColumn( 'Draw', when(col('FinalResult') == 'D', 1).otherwise(0) ).\\\n",
        "                        withColumn( 'HomePoint', when(col('FinalResult') == 'H', 3).when(col('FinalResult') == 'D', 1).otherwise(0) ).\\\n",
        "                        withColumn( 'AwayPoint', when(col('FinalResult') == 'H', 0).when(col('FinalResult')== 'D', 1).otherwise(3) )\n",
        "bundesliga.show()"
      ],
      "execution_count": null,
      "outputs": [
        {
          "output_type": "stream",
          "text": [
            "+------+--------------+--------------+-------------+-------------+-----------+-------+-------+----+---------+---------+\n",
            "|Season|      HomeTeam|      AwayTeam|HomeTeamGoals|AwayTeamGoals|FinalResult|HomeWin|AwayWin|Draw|HomePoint|AwayPoint|\n",
            "+------+--------------+--------------+-------------+-------------+-----------+-------+-------+----+---------+---------+\n",
            "|  1993| Bayern Munich|      Freiburg|            3|            1|          H|      1|      0|   0|        3|        0|\n",
            "|  1993|      Duisburg|     Stuttgart|            2|            2|          D|      0|      0|   1|        1|        1|\n",
            "|  1993|      Dortmund|     Karlsruhe|            2|            1|          H|      1|      0|   0|        3|        0|\n",
            "|  1993|      Duisburg|    Leverkusen|            2|            2|          D|      0|      0|   1|        1|        1|\n",
            "|  1993|       FC Koln|Kaiserslautern|            0|            2|          A|      0|      1|   0|        0|        3|\n",
            "|  1993|       Hamburg|      Nurnberg|            5|            2|          H|      1|      0|   0|        3|        0|\n",
            "|  1993|    RB Leipzig|       Dresden|            3|            3|          D|      0|      0|   1|        1|        1|\n",
            "|  1993|    M'Gladbach| Ein Frankfurt|            0|            4|          A|      0|      1|   0|        0|        3|\n",
            "|  1993|  Wattenscheid|    Schalke 04|            3|            0|          H|      1|      0|   0|        3|        0|\n",
            "|  1993| Werder Bremen|     Stuttgart|            5|            1|          H|      1|      0|   0|        3|        0|\n",
            "|  1993|       Dresden|      Duisburg|            0|            1|          A|      0|      1|   0|        0|        3|\n",
            "|  1993| Ein Frankfurt| Werder Bremen|            2|            2|          D|      0|      0|   1|        1|        1|\n",
            "|  1993|      Freiburg|  Wattenscheid|            4|            1|          H|      1|      0|   0|        3|        0|\n",
            "|  1993|Kaiserslautern|    M'Gladbach|            4|            2|          H|      1|      0|   0|        3|        0|\n",
            "|  1993|     Karlsruhe|       Hamburg|            2|            0|          H|      1|      0|   0|        3|        0|\n",
            "|  1993|    Leverkusen| Bayern Munich|            2|            1|          H|      1|      0|   0|        3|        0|\n",
            "|  1993|      Nurnberg|       FC Koln|            1|            0|          H|      1|      0|   0|        3|        0|\n",
            "|  1993|    Schalke 04|      Dortmund|            1|            0|          H|      1|      0|   0|        3|        0|\n",
            "|  1993|     Stuttgart|    RB Leipzig|            0|            0|          D|      0|      0|   1|        1|        1|\n",
            "|  1993| Bayern Munich|       Dresden|            5|            0|          H|      1|      0|   0|        3|        0|\n",
            "+------+--------------+--------------+-------------+-------------+-----------+-------+-------+----+---------+---------+\n",
            "only showing top 20 rows\n",
            "\n"
          ],
          "name": "stdout"
        }
      ]
    },
    {
      "cell_type": "code",
      "metadata": {
        "colab": {
          "base_uri": "https://localhost:8080/"
        },
        "id": "uwvsYKugEOZX",
        "outputId": "2527b1df-d1ff-41ac-a191-2366065be42e"
      },
      "source": [
        "# A dataframe for HomeTeam\n",
        "home = bundesliga.groupBy( 'Season', 'HomeTeam' ).agg(\n",
        "                                                      sum(col('HomeWin')).alias('TotalHomeWin'),\n",
        "                                                      sum(col('AwayWin')).alias('TotalHomeLost'),\n",
        "                                                      sum(col('Draw')).alias('TotalHomeDraw'),\n",
        "                                                      sum(col('HomePoint')).alias('TotalHomePoint'),\n",
        "                                                      sum(col('AwayPoint')).alias('TotalHomeLostPoint'),\n",
        "                                                      sum(col('HomeTeamGoals')).alias('TotalHomeScoredGoals'),\n",
        "                                                      sum(col('AwayTeamGoals')).alias('TotalHomeAgainstGoals')\n",
        "                                                     ).withColumnRenamed('HomeTeam', 'Team').orderBy('Season')\n",
        "home.show()"
      ],
      "execution_count": null,
      "outputs": [
        {
          "output_type": "stream",
          "text": [
            "+------+--------------+------------+-------------+-------------+--------------+------------------+--------------------+---------------------+\n",
            "|Season|          Team|TotalHomeWin|TotalHomeLost|TotalHomeDraw|TotalHomePoint|TotalHomeLostPoint|TotalHomeScoredGoals|TotalHomeAgainstGoals|\n",
            "+------+--------------+------------+-------------+-------------+--------------+------------------+--------------------+---------------------+\n",
            "|  1993|      Freiburg|           6|            7|            4|            22|                25|                29.0|                 27.0|\n",
            "|  1993|  Wattenscheid|           6|            6|            5|            23|                23|                31.0|                 27.0|\n",
            "|  1993| Ein Frankfurt|           8|            4|            5|            29|                17|                29.0|                 22.0|\n",
            "|  1993|    Leverkusen|          10|            2|            5|            35|                11|                36.0|                 20.0|\n",
            "|  1993|       Hamburg|           7|            5|            5|            26|                20|                31.0|                 24.0|\n",
            "|  1993|    M'Gladbach|           9|            3|            5|            32|                14|                38.0|                 25.0|\n",
            "|  1993| Werder Bremen|          10|            5|            2|            32|                17|                31.0|                 21.0|\n",
            "|  1993|       Dresden|           7|            3|            7|            28|                16|                20.0|                 16.0|\n",
            "|  1993|Kaiserslautern|          12|            1|            4|            40|                 7|                38.0|                 10.0|\n",
            "|  1993|     Karlsruhe|          11|            1|            5|            38|                 8|                29.0|                 13.0|\n",
            "|  1993|      Nurnberg|           7|            6|            4|            25|                22|                25.0|                 20.0|\n",
            "|  1993|    Schalke 04|           7|            6|            4|            25|                22|                23.0|                 20.0|\n",
            "|  1993|      Duisburg|           7|            4|            6|            27|                18|                21.0|                 23.0|\n",
            "|  1993|       FC Koln|           9|            6|            2|            29|                20|                25.0|                 22.0|\n",
            "|  1993|    RB Leipzig|           2|            6|            9|            15|                27|                20.0|                 28.0|\n",
            "|  1993| Bayern Munich|          13|            1|            3|            42|                 6|                44.0|                 10.0|\n",
            "|  1993|      Dortmund|          13|            2|            2|            41|                 8|                35.0|                 15.0|\n",
            "|  1993|     Stuttgart|           8|            3|            6|            30|                15|                31.0|                 16.0|\n",
            "|  1994| Ein Frankfurt|          10|            4|            3|            33|                15|                28.0|                 18.0|\n",
            "|  1994|   Munich 1860|           7|            6|            4|            25|                22|                26.0|                 23.0|\n",
            "+------+--------------+------------+-------------+-------------+--------------+------------------+--------------------+---------------------+\n",
            "only showing top 20 rows\n",
            "\n"
          ],
          "name": "stdout"
        }
      ]
    },
    {
      "cell_type": "code",
      "metadata": {
        "colab": {
          "base_uri": "https://localhost:8080/"
        },
        "id": "hE9ha3WEg2Xg",
        "outputId": "e104861a-4ef6-4686-d208-c2244c5dae94"
      },
      "source": [
        "# A dataframe for AwayTeam\n",
        "away = bundesliga.groupBy('Season', 'AwayTeam').agg(\n",
        "                                                    sum(col('HomeWin')).alias('TotalAwayLost'),\n",
        "                                                    sum(col('AwayWin')).alias('TotalAwayWin'),\n",
        "                                                    sum(col('Draw')).alias('TotalAwayDraw'),\n",
        "                                                    sum(col('HomePoint')).alias('TotalAwayLostPoint'),\n",
        "                                                    sum(col('AwayPoint')).alias('TotalAwayPoint'),\n",
        "                                                    sum(col('HomeTeamGoals')).alias('TotalAwayAgainstGoals'),\n",
        "                                                    sum(col('AwayTeamGoals')).alias('TotalAwayScoredGoals')\n",
        "                                                   ).withColumnRenamed('AwayTeam', 'Team').orderBy('Season')\n",
        "away.show()"
      ],
      "execution_count": null,
      "outputs": [
        {
          "output_type": "stream",
          "text": [
            "+------+--------------+-------------+------------+-------------+------------------+--------------+---------------------+--------------------+\n",
            "|Season|          Team|TotalAwayLost|TotalAwayWin|TotalAwayDraw|TotalAwayLostPoint|TotalAwayPoint|TotalAwayAgainstGoals|TotalAwayScoredGoals|\n",
            "+------+--------------+-------------+------------+-------------+------------------+--------------+---------------------+--------------------+\n",
            "|  1993|    Leverkusen|            7|           4|            6|                27|            18|                 27.0|                24.0|\n",
            "|  1993|     Karlsruhe|            9|           3|            5|                32|            14|                 30.0|                17.0|\n",
            "|  1993|       Dresden|            7|           3|            7|                28|            16|                 28.0|                13.0|\n",
            "|  1993| Ein Frankfurt|            7|           7|            3|                24|            24|                 19.0|                28.0|\n",
            "|  1993|    Schalke 04|            9|           3|            5|                32|            14|                 30.0|                15.0|\n",
            "|  1993|Kaiserslautern|            8|           6|            3|                27|            21|                 26.0|                26.0|\n",
            "|  1993|      Freiburg|            9|           4|            4|                31|            16|                 30.0|                25.0|\n",
            "|  1993| Werder Bremen|            6|           3|            8|                26|            17|                 23.0|                20.0|\n",
            "|  1993|  Wattenscheid|           11|           0|            6|                39|             6|                 43.0|                17.0|\n",
            "|  1993|    M'Gladbach|           10|           5|            2|                32|            17|                 34.0|                27.0|\n",
            "|  1993|       Hamburg|            8|           6|            3|                27|            21|                 28.0|                17.0|\n",
            "|  1993| Bayern Munich|            6|           4|            7|                25|            19|                 27.0|                24.0|\n",
            "|  1993|       FC Koln|            8|           5|            4|                28|            19|                 29.0|                24.0|\n",
            "|  1993|      Dortmund|            8|           2|            7|                31|            13|                 30.0|                14.0|\n",
            "|  1993|    RB Leipzig|           14|           1|            2|                44|             5|                 41.0|                12.0|\n",
            "|  1993|     Stuttgart|            7|           5|            5|                26|            20|                 27.0|                20.0|\n",
            "|  1993|      Duisburg|            8|           7|            2|                26|            23|                 29.0|                20.0|\n",
            "|  1993|      Nurnberg|           10|           3|            4|                34|            13|                 35.0|                16.0|\n",
            "|  1994|Kaiserslautern|            5|           7|            5|                20|            26|                 25.0|                26.0|\n",
            "|  1994|    M'gladbach|            6|           7|            4|                22|            25|                 25.0|                29.0|\n",
            "+------+--------------+-------------+------------+-------------+------------------+--------------+---------------------+--------------------+\n",
            "only showing top 20 rows\n",
            "\n"
          ],
          "name": "stdout"
        }
      ]
    },
    {
      "cell_type": "code",
      "metadata": {
        "id": "SQgqgneRlp92"
      },
      "source": [
        "from pyspark.sql.window import Window\n",
        "windowSpec  = Window.partitionBy('Season').orderBy( col('Point').desc(), col('GoalDifference').desc() )\n",
        "\n",
        "\"\"\"rank\"\"\"\n",
        "from pyspark.sql.functions import rank\n",
        "# df.withColumn(\"rank\",rank().over(windowSpec)).show()"
      ],
      "execution_count": null,
      "outputs": []
    },
    {
      "cell_type": "code",
      "metadata": {
        "colab": {
          "base_uri": "https://localhost:8080/"
        },
        "id": "_CQg8dZKjEdw",
        "outputId": "ae821573-1c87-4a37-c6a8-5182b3ddafd1"
      },
      "source": [
        "table = home.join(away, ['Season', 'Team'], 'inner' ).\\\n",
        "                  withColumn('Win', col('TotalHomeWin') + col('TotalAwayWin') ).\\\n",
        "                  withColumn('Lost', col('TotalHomeLost') + col('TotalAwayLost') ).\\\n",
        "                  withColumn('Draw', col('TotalHomeDraw') + col('TotalAwayDraw') ).\\\n",
        "                  withColumn('GoalScored', col('TotalHomeScoredGoals') + col('TotalAwayScoredGoals')).\\\n",
        "                  withColumn('GoalAgainst', col('TotalHomeAgainstGoals') + col('TotalAwayAgainstGoals')).\\\n",
        "                  withColumn('GoalDifference', col('GoalScored') - col('GoalAgainst')).\\\n",
        "                  withColumn('WinRate', round(100.*col('Win')/(col('Win') + col('Lost') + col('Draw')), 2) ).\\\n",
        "                  withColumn('Point', col('TotalHomePoint') +col('TotalAwayPoint') ).\\\n",
        "                  withColumn('Position', rank().over(windowSpec) ).\\\n",
        "                  select('Season', 'Team', 'Win', 'Lost', 'Draw', 'WinRate', 'GoalScored', 'GoalAgainst', 'GoalDifference', 'Point', 'Position')\n",
        "table.show()"
      ],
      "execution_count": null,
      "outputs": [
        {
          "output_type": "stream",
          "text": [
            "+------+--------------+---+----+----+-------+----------+-----------+--------------+-----+--------+\n",
            "|Season|          Team|Win|Lost|Draw|WinRate|GoalScored|GoalAgainst|GoalDifference|Point|Position|\n",
            "+------+--------------+---+----+----+-------+----------+-----------+--------------+-----+--------+\n",
            "|  1993| Bayern Munich| 17|   7|  10|   50.0|      68.0|       37.0|          31.0|   61|       1|\n",
            "|  1993|Kaiserslautern| 18|   9|   7|  52.94|      64.0|       36.0|          28.0|   61|       2|\n",
            "|  1993|      Dortmund| 15|  10|   9|  44.12|      49.0|       45.0|           4.0|   54|       3|\n",
            "|  1993| Ein Frankfurt| 15|  11|   8|  44.12|      57.0|       41.0|          16.0|   53|       4|\n",
            "|  1993|    Leverkusen| 14|   9|  11|  41.18|      60.0|       47.0|          13.0|   53|       5|\n",
            "|  1993|     Karlsruhe| 14|  10|  10|  41.18|      46.0|       43.0|           3.0|   52|       6|\n",
            "|  1993|     Stuttgart| 13|  10|  11|  38.24|      51.0|       43.0|           8.0|   50|       7|\n",
            "|  1993|      Duisburg| 14|  12|   8|  41.18|      41.0|       52.0|         -11.0|   50|       8|\n",
            "|  1993| Werder Bremen| 13|  11|  10|  38.24|      51.0|       44.0|           7.0|   49|       9|\n",
            "|  1993|    M'Gladbach| 14|  13|   7|  41.18|      65.0|       59.0|           6.0|   49|      10|\n",
            "|  1993|       FC Koln| 14|  14|   6|  41.18|      49.0|       51.0|          -2.0|   48|      11|\n",
            "|  1993|       Hamburg| 13|  13|   8|  38.24|      48.0|       52.0|          -4.0|   47|      12|\n",
            "|  1993|       Dresden| 10|  10|  14|  29.41|      33.0|       44.0|         -11.0|   44|      13|\n",
            "|  1993|    Schalke 04| 10|  15|   9|  29.41|      38.0|       50.0|         -12.0|   39|      14|\n",
            "|  1993|      Freiburg| 10|  16|   8|  29.41|      54.0|       57.0|          -3.0|   38|      15|\n",
            "|  1993|      Nurnberg| 10|  16|   8|  29.41|      41.0|       55.0|         -14.0|   38|      16|\n",
            "|  1993|  Wattenscheid|  6|  17|  11|  17.65|      48.0|       70.0|         -22.0|   29|      17|\n",
            "|  1993|    RB Leipzig|  3|  20|  11|   8.82|      32.0|       69.0|         -37.0|   20|      18|\n",
            "|  1994|      Dortmund| 20|   5|   9|  58.82|      67.0|       33.0|          34.0|   69|       1|\n",
            "|  1994| Werder Bremen| 20|   6|   8|  58.82|      70.0|       39.0|          31.0|   68|       2|\n",
            "+------+--------------+---+----+----+-------+----------+-----------+--------------+-----+--------+\n",
            "only showing top 20 rows\n",
            "\n"
          ],
          "name": "stdout"
        }
      ]
    },
    {
      "cell_type": "code",
      "metadata": {
        "colab": {
          "base_uri": "https://localhost:8080/",
          "height": 459
        },
        "id": "jpyC58xHAxPc",
        "outputId": "759d8795-7c26-47e3-fa71-a739e95f22d7"
      },
      "source": [
        "# Check a season\n",
        "table.where( table['Season'] == 2002 )"
      ],
      "execution_count": null,
      "outputs": [
        {
          "output_type": "execute_result",
          "data": {
            "text/html": [
              "<table border='1'>\n",
              "<tr><th>Season</th><th>Team</th><th>Win</th><th>Lost</th><th>Draw</th><th>WinRate</th><th>GoalScored</th><th>GoalAgainst</th><th>GoalDifference</th><th>Point</th><th>Position</th></tr>\n",
              "<tr><td>2002</td><td>Bayern Munich</td><td>23</td><td>5</td><td>6</td><td>67.65</td><td>70.0</td><td>25.0</td><td>45.0</td><td>75</td><td>1</td></tr>\n",
              "<tr><td>2002</td><td>Stuttgart</td><td>17</td><td>9</td><td>8</td><td>50.0</td><td>53.0</td><td>39.0</td><td>14.0</td><td>59</td><td>2</td></tr>\n",
              "<tr><td>2002</td><td>Dortmund</td><td>15</td><td>6</td><td>13</td><td>44.12</td><td>51.0</td><td>27.0</td><td>24.0</td><td>58</td><td>3</td></tr>\n",
              "<tr><td>2002</td><td>Hamburg</td><td>15</td><td>8</td><td>11</td><td>44.12</td><td>46.0</td><td>36.0</td><td>10.0</td><td>56</td><td>4</td></tr>\n",
              "<tr><td>2002</td><td>Hertha</td><td>16</td><td>12</td><td>6</td><td>47.06</td><td>52.0</td><td>43.0</td><td>9.0</td><td>54</td><td>5</td></tr>\n",
              "<tr><td>2002</td><td>Werder Bremen</td><td>16</td><td>14</td><td>4</td><td>47.06</td><td>51.0</td><td>50.0</td><td>1.0</td><td>52</td><td>6</td></tr>\n",
              "<tr><td>2002</td><td>Schalke 04</td><td>12</td><td>9</td><td>13</td><td>35.29</td><td>46.0</td><td>40.0</td><td>6.0</td><td>49</td><td>7</td></tr>\n",
              "<tr><td>2002</td><td>Wolfsburg</td><td>13</td><td>14</td><td>7</td><td>38.24</td><td>39.0</td><td>42.0</td><td>-3.0</td><td>46</td><td>8</td></tr>\n",
              "<tr><td>2002</td><td>Bochum</td><td>12</td><td>13</td><td>9</td><td>35.29</td><td>55.0</td><td>56.0</td><td>-1.0</td><td>45</td><td>9</td></tr>\n",
              "<tr><td>2002</td><td>Munich 1860</td><td>12</td><td>13</td><td>9</td><td>35.29</td><td>44.0</td><td>52.0</td><td>-8.0</td><td>45</td><td>10</td></tr>\n",
              "<tr><td>2002</td><td>Hannover</td><td>12</td><td>15</td><td>7</td><td>35.29</td><td>47.0</td><td>57.0</td><td>-10.0</td><td>43</td><td>11</td></tr>\n",
              "<tr><td>2002</td><td>M&#x27;gladbach</td><td>11</td><td>14</td><td>9</td><td>32.35</td><td>43.0</td><td>45.0</td><td>-2.0</td><td>42</td><td>12</td></tr>\n",
              "<tr><td>2002</td><td>Hansa Rostock</td><td>11</td><td>15</td><td>8</td><td>32.35</td><td>35.0</td><td>41.0</td><td>-6.0</td><td>41</td><td>13</td></tr>\n",
              "<tr><td>2002</td><td>Kaiserslautern</td><td>10</td><td>14</td><td>10</td><td>29.41</td><td>40.0</td><td>42.0</td><td>-2.0</td><td>40</td><td>14</td></tr>\n",
              "<tr><td>2002</td><td>Leverkusen</td><td>11</td><td>16</td><td>7</td><td>32.35</td><td>47.0</td><td>56.0</td><td>-9.0</td><td>40</td><td>15</td></tr>\n",
              "<tr><td>2002</td><td>Bielefeld</td><td>8</td><td>14</td><td>12</td><td>23.53</td><td>35.0</td><td>46.0</td><td>-11.0</td><td>36</td><td>16</td></tr>\n",
              "<tr><td>2002</td><td>Nurnberg</td><td>8</td><td>20</td><td>6</td><td>23.53</td><td>33.0</td><td>60.0</td><td>-27.0</td><td>30</td><td>17</td></tr>\n",
              "<tr><td>2002</td><td>Cottbus</td><td>7</td><td>18</td><td>9</td><td>20.59</td><td>34.0</td><td>64.0</td><td>-30.0</td><td>30</td><td>18</td></tr>\n",
              "</table>\n"
            ],
            "text/plain": [
              "+------+--------------+---+----+----+-------+----------+-----------+--------------+-----+--------+\n",
              "|Season|          Team|Win|Lost|Draw|WinRate|GoalScored|GoalAgainst|GoalDifference|Point|Position|\n",
              "+------+--------------+---+----+----+-------+----------+-----------+--------------+-----+--------+\n",
              "|  2002| Bayern Munich| 23|   5|   6|  67.65|      70.0|       25.0|          45.0|   75|       1|\n",
              "|  2002|     Stuttgart| 17|   9|   8|   50.0|      53.0|       39.0|          14.0|   59|       2|\n",
              "|  2002|      Dortmund| 15|   6|  13|  44.12|      51.0|       27.0|          24.0|   58|       3|\n",
              "|  2002|       Hamburg| 15|   8|  11|  44.12|      46.0|       36.0|          10.0|   56|       4|\n",
              "|  2002|        Hertha| 16|  12|   6|  47.06|      52.0|       43.0|           9.0|   54|       5|\n",
              "|  2002| Werder Bremen| 16|  14|   4|  47.06|      51.0|       50.0|           1.0|   52|       6|\n",
              "|  2002|    Schalke 04| 12|   9|  13|  35.29|      46.0|       40.0|           6.0|   49|       7|\n",
              "|  2002|     Wolfsburg| 13|  14|   7|  38.24|      39.0|       42.0|          -3.0|   46|       8|\n",
              "|  2002|        Bochum| 12|  13|   9|  35.29|      55.0|       56.0|          -1.0|   45|       9|\n",
              "|  2002|   Munich 1860| 12|  13|   9|  35.29|      44.0|       52.0|          -8.0|   45|      10|\n",
              "|  2002|      Hannover| 12|  15|   7|  35.29|      47.0|       57.0|         -10.0|   43|      11|\n",
              "|  2002|    M'gladbach| 11|  14|   9|  32.35|      43.0|       45.0|          -2.0|   42|      12|\n",
              "|  2002| Hansa Rostock| 11|  15|   8|  32.35|      35.0|       41.0|          -6.0|   41|      13|\n",
              "|  2002|Kaiserslautern| 10|  14|  10|  29.41|      40.0|       42.0|          -2.0|   40|      14|\n",
              "|  2002|    Leverkusen| 11|  16|   7|  32.35|      47.0|       56.0|          -9.0|   40|      15|\n",
              "|  2002|     Bielefeld|  8|  14|  12|  23.53|      35.0|       46.0|         -11.0|   36|      16|\n",
              "|  2002|      Nurnberg|  8|  20|   6|  23.53|      33.0|       60.0|         -27.0|   30|      17|\n",
              "|  2002|       Cottbus|  7|  18|   9|  20.59|      34.0|       64.0|         -30.0|   30|      18|\n",
              "+------+--------------+---+----+----+-------+----------+-----------+--------------+-----+--------+"
            ]
          },
          "metadata": {
            "tags": []
          },
          "execution_count": 50
        }
      ]
    },
    {
      "cell_type": "code",
      "metadata": {
        "colab": {
          "base_uri": "https://localhost:8080/"
        },
        "id": "F8Cg0vvg870q",
        "outputId": "ed010c7f-9c41-48ee-a4e5-57a05f78a433"
      },
      "source": [
        "# Find the winners / Champions\n",
        "table_df = table.where( table['Position'] == 1 )\n",
        "print('Number of records: ', table_df.count())\n",
        "table_df.show(table_df.count(), truncate=False)"
      ],
      "execution_count": null,
      "outputs": [
        {
          "output_type": "stream",
          "text": [
            "Number of records:  24\n",
            "+------+--------------+---+----+----+-------+----------+-----------+--------------+-----+--------+\n",
            "|Season|Team          |Win|Lost|Draw|WinRate|GoalScored|GoalAgainst|GoalDifference|Point|Position|\n",
            "+------+--------------+---+----+----+-------+----------+-----------+--------------+-----+--------+\n",
            "|1993  |Bayern Munich |17 |7   |10  |50.0   |68.0      |37.0       |31.0          |61   |1       |\n",
            "|1994  |Dortmund      |20 |5   |9   |58.82  |67.0      |33.0       |34.0          |69   |1       |\n",
            "|1995  |Dortmund      |19 |4   |11  |55.88  |76.0      |38.0       |38.0          |68   |1       |\n",
            "|1996  |Bayern Munich |20 |3   |11  |58.82  |68.0      |34.0       |34.0          |71   |1       |\n",
            "|1997  |Kaiserslautern|19 |4   |11  |55.88  |63.0      |39.0       |24.0          |68   |1       |\n",
            "|1998  |Bayern Munich |24 |4   |6   |70.59  |76.0      |28.0       |48.0          |78   |1       |\n",
            "|1999  |Bayern Munich |22 |5   |7   |64.71  |73.0      |28.0       |45.0          |73   |1       |\n",
            "|2000  |Bayern Munich |19 |9   |6   |55.88  |62.0      |37.0       |25.0          |63   |1       |\n",
            "|2001  |Dortmund      |21 |6   |7   |61.76  |62.0      |33.0       |29.0          |70   |1       |\n",
            "|2002  |Bayern Munich |23 |5   |6   |67.65  |70.0      |25.0       |45.0          |75   |1       |\n",
            "|2003  |Werder Bremen |22 |4   |8   |64.71  |79.0      |38.0       |41.0          |74   |1       |\n",
            "|2004  |Bayern Munich |24 |5   |5   |70.59  |75.0      |33.0       |42.0          |77   |1       |\n",
            "|2005  |Bayern Munich |22 |3   |9   |64.71  |67.0      |32.0       |35.0          |75   |1       |\n",
            "|2006  |Stuttgart     |21 |6   |7   |61.76  |61.0      |37.0       |24.0          |70   |1       |\n",
            "|2007  |Bayern Munich |22 |2   |10  |64.71  |68.0      |21.0       |47.0          |76   |1       |\n",
            "|2008  |Wolfsburg     |21 |7   |6   |61.76  |80.0      |41.0       |39.0          |69   |1       |\n",
            "|2009  |Bayern Munich |20 |4   |10  |58.82  |72.0      |31.0       |41.0          |70   |1       |\n",
            "|2010  |Dortmund      |23 |5   |6   |67.65  |67.0      |22.0       |45.0          |75   |1       |\n",
            "|2011  |Dortmund      |25 |3   |6   |73.53  |80.0      |25.0       |55.0          |81   |1       |\n",
            "|2012  |Bayern Munich |29 |1   |4   |85.29  |98.0      |18.0       |80.0          |91   |1       |\n",
            "|2013  |Bayern Munich |29 |2   |3   |85.29  |94.0      |23.0       |71.0          |90   |1       |\n",
            "|2014  |Bayern Munich |25 |5   |4   |73.53  |80.0      |18.0       |62.0          |79   |1       |\n",
            "|2015  |Bayern Munich |28 |2   |4   |82.35  |80.0      |17.0       |63.0          |88   |1       |\n",
            "|2016  |Bayern Munich |25 |2   |7   |73.53  |89.0      |22.0       |67.0          |82   |1       |\n",
            "+------+--------------+---+----+----+-------+----------+-----------+--------------+-----+--------+\n",
            "\n"
          ],
          "name": "stdout"
        }
      ]
    },
    {
      "cell_type": "code",
      "metadata": {
        "colab": {
          "base_uri": "https://localhost:8080/",
          "height": 44
        },
        "id": "6ZSb2s6gDkP2",
        "outputId": "6ae7d792-7872-4d49-87e2-891a94b59c25"
      },
      "source": [
        "# Check a season\n",
        "table.where( table['Season'] == 2017 )"
      ],
      "execution_count": null,
      "outputs": [
        {
          "output_type": "execute_result",
          "data": {
            "text/html": [
              "<table border='1'>\n",
              "<tr><th>Season</th><th>Team</th><th>Win</th><th>Lost</th><th>Draw</th><th>WinRate</th><th>GoalScored</th><th>GoalAgainst</th><th>GoalDifference</th><th>Point</th><th>Position</th></tr>\n",
              "</table>\n"
            ],
            "text/plain": [
              "+------+----+---+----+----+-------+----------+-----------+--------------+-----+--------+\n",
              "|Season|Team|Win|Lost|Draw|WinRate|GoalScored|GoalAgainst|GoalDifference|Point|Position|\n",
              "+------+----+---+----+----+-------+----------+-----------+--------------+-----+--------+\n",
              "+------+----+---+----+----+-------+----------+-----------+--------------+-----+--------+"
            ]
          },
          "metadata": {
            "tags": []
          },
          "execution_count": 52
        }
      ]
    },
    {
      "cell_type": "markdown",
      "metadata": {
        "id": "5Wx5HR2vCpoa"
      },
      "source": [
        "# Q2. Which teams have been relegated in the past 10 years?"
      ]
    },
    {
      "cell_type": "code",
      "metadata": {
        "colab": {
          "base_uri": "https://localhost:8080/"
        },
        "id": "rbKke3GxI1XU",
        "outputId": "19fb4139-c62d-4a1a-9841-006bda05e084"
      },
      "source": [
        "table.show()"
      ],
      "execution_count": null,
      "outputs": [
        {
          "output_type": "stream",
          "text": [
            "+------+--------------+---+----+----+-------+----------+-----------+--------------+-----+--------+\n",
            "|Season|          Team|Win|Lost|Draw|WinRate|GoalScored|GoalAgainst|GoalDifference|Point|Position|\n",
            "+------+--------------+---+----+----+-------+----------+-----------+--------------+-----+--------+\n",
            "|  1993| Bayern Munich| 17|   7|  10|   50.0|      68.0|       37.0|          31.0|   61|       1|\n",
            "|  1993|Kaiserslautern| 18|   9|   7|  52.94|      64.0|       36.0|          28.0|   61|       2|\n",
            "|  1993|      Dortmund| 15|  10|   9|  44.12|      49.0|       45.0|           4.0|   54|       3|\n",
            "|  1993| Ein Frankfurt| 15|  11|   8|  44.12|      57.0|       41.0|          16.0|   53|       4|\n",
            "|  1993|    Leverkusen| 14|   9|  11|  41.18|      60.0|       47.0|          13.0|   53|       5|\n",
            "|  1993|     Karlsruhe| 14|  10|  10|  41.18|      46.0|       43.0|           3.0|   52|       6|\n",
            "|  1993|     Stuttgart| 13|  10|  11|  38.24|      51.0|       43.0|           8.0|   50|       7|\n",
            "|  1993|      Duisburg| 14|  12|   8|  41.18|      41.0|       52.0|         -11.0|   50|       8|\n",
            "|  1993| Werder Bremen| 13|  11|  10|  38.24|      51.0|       44.0|           7.0|   49|       9|\n",
            "|  1993|    M'Gladbach| 14|  13|   7|  41.18|      65.0|       59.0|           6.0|   49|      10|\n",
            "|  1993|       FC Koln| 14|  14|   6|  41.18|      49.0|       51.0|          -2.0|   48|      11|\n",
            "|  1993|       Hamburg| 13|  13|   8|  38.24|      48.0|       52.0|          -4.0|   47|      12|\n",
            "|  1993|       Dresden| 10|  10|  14|  29.41|      33.0|       44.0|         -11.0|   44|      13|\n",
            "|  1993|    Schalke 04| 10|  15|   9|  29.41|      38.0|       50.0|         -12.0|   39|      14|\n",
            "|  1993|      Freiburg| 10|  16|   8|  29.41|      54.0|       57.0|          -3.0|   38|      15|\n",
            "|  1993|      Nurnberg| 10|  16|   8|  29.41|      41.0|       55.0|         -14.0|   38|      16|\n",
            "|  1993|  Wattenscheid|  6|  17|  11|  17.65|      48.0|       70.0|         -22.0|   29|      17|\n",
            "|  1993|    RB Leipzig|  3|  20|  11|   8.82|      32.0|       69.0|         -37.0|   20|      18|\n",
            "|  1994|      Dortmund| 20|   5|   9|  58.82|      67.0|       33.0|          34.0|   69|       1|\n",
            "|  1994| Werder Bremen| 20|   6|   8|  58.82|      70.0|       39.0|          31.0|   68|       2|\n",
            "+------+--------------+---+----+----+-------+----------+-----------+--------------+-----+--------+\n",
            "only showing top 20 rows\n",
            "\n"
          ],
          "name": "stdout"
        }
      ]
    },
    {
      "cell_type": "code",
      "metadata": {
        "colab": {
          "base_uri": "https://localhost:8080/",
          "height": 459
        },
        "id": "x6frjW_oEtDZ",
        "outputId": "15e34e9e-6323-4dea-9248-ee2268d78905"
      },
      "source": [
        "# Check a season\n",
        "table.where( table['Season'] == 2016 )"
      ],
      "execution_count": null,
      "outputs": [
        {
          "output_type": "execute_result",
          "data": {
            "text/html": [
              "<table border='1'>\n",
              "<tr><th>Season</th><th>Team</th><th>Win</th><th>Lost</th><th>Draw</th><th>WinRate</th><th>GoalScored</th><th>GoalAgainst</th><th>GoalDifference</th><th>Point</th><th>Position</th></tr>\n",
              "<tr><td>2016</td><td>Bayern Munich</td><td>25</td><td>2</td><td>7</td><td>73.53</td><td>89.0</td><td>22.0</td><td>67.0</td><td>82</td><td>1</td></tr>\n",
              "<tr><td>2016</td><td>RB Leipzig</td><td>20</td><td>7</td><td>7</td><td>58.82</td><td>66.0</td><td>39.0</td><td>27.0</td><td>67</td><td>2</td></tr>\n",
              "<tr><td>2016</td><td>Dortmund</td><td>18</td><td>6</td><td>10</td><td>52.94</td><td>72.0</td><td>40.0</td><td>32.0</td><td>64</td><td>3</td></tr>\n",
              "<tr><td>2016</td><td>Hoffenheim</td><td>16</td><td>4</td><td>14</td><td>47.06</td><td>64.0</td><td>37.0</td><td>27.0</td><td>62</td><td>4</td></tr>\n",
              "<tr><td>2016</td><td>FC Koln</td><td>12</td><td>9</td><td>13</td><td>35.29</td><td>51.0</td><td>42.0</td><td>9.0</td><td>49</td><td>5</td></tr>\n",
              "<tr><td>2016</td><td>Hertha</td><td>15</td><td>15</td><td>4</td><td>44.12</td><td>43.0</td><td>47.0</td><td>-4.0</td><td>49</td><td>6</td></tr>\n",
              "<tr><td>2016</td><td>Freiburg</td><td>14</td><td>14</td><td>6</td><td>41.18</td><td>42.0</td><td>60.0</td><td>-18.0</td><td>48</td><td>7</td></tr>\n",
              "<tr><td>2016</td><td>Werder Bremen</td><td>13</td><td>15</td><td>6</td><td>38.24</td><td>61.0</td><td>64.0</td><td>-3.0</td><td>45</td><td>8</td></tr>\n",
              "<tr><td>2016</td><td>M&#x27;gladbach</td><td>12</td><td>13</td><td>9</td><td>35.29</td><td>45.0</td><td>49.0</td><td>-4.0</td><td>45</td><td>9</td></tr>\n",
              "<tr><td>2016</td><td>Schalke 04</td><td>11</td><td>13</td><td>10</td><td>32.35</td><td>45.0</td><td>40.0</td><td>5.0</td><td>43</td><td>10</td></tr>\n",
              "<tr><td>2016</td><td>Ein Frankfurt</td><td>11</td><td>14</td><td>9</td><td>32.35</td><td>36.0</td><td>43.0</td><td>-7.0</td><td>42</td><td>11</td></tr>\n",
              "<tr><td>2016</td><td>Leverkusen</td><td>11</td><td>15</td><td>8</td><td>32.35</td><td>53.0</td><td>55.0</td><td>-2.0</td><td>41</td><td>12</td></tr>\n",
              "<tr><td>2016</td><td>Augsburg</td><td>9</td><td>14</td><td>11</td><td>26.47</td><td>35.0</td><td>51.0</td><td>-16.0</td><td>38</td><td>13</td></tr>\n",
              "<tr><td>2016</td><td>Hamburg</td><td>10</td><td>16</td><td>8</td><td>29.41</td><td>33.0</td><td>61.0</td><td>-28.0</td><td>38</td><td>14</td></tr>\n",
              "<tr><td>2016</td><td>Mainz</td><td>10</td><td>17</td><td>7</td><td>29.41</td><td>44.0</td><td>55.0</td><td>-11.0</td><td>37</td><td>15</td></tr>\n",
              "<tr><td>2016</td><td>Wolfsburg</td><td>10</td><td>17</td><td>7</td><td>29.41</td><td>34.0</td><td>52.0</td><td>-18.0</td><td>37</td><td>16</td></tr>\n",
              "<tr><td>2016</td><td>Ingolstadt</td><td>8</td><td>18</td><td>8</td><td>23.53</td><td>36.0</td><td>57.0</td><td>-21.0</td><td>32</td><td>17</td></tr>\n",
              "<tr><td>2016</td><td>Darmstadt</td><td>7</td><td>23</td><td>4</td><td>20.59</td><td>28.0</td><td>63.0</td><td>-35.0</td><td>25</td><td>18</td></tr>\n",
              "</table>\n"
            ],
            "text/plain": [
              "+------+-------------+---+----+----+-------+----------+-----------+--------------+-----+--------+\n",
              "|Season|         Team|Win|Lost|Draw|WinRate|GoalScored|GoalAgainst|GoalDifference|Point|Position|\n",
              "+------+-------------+---+----+----+-------+----------+-----------+--------------+-----+--------+\n",
              "|  2016|Bayern Munich| 25|   2|   7|  73.53|      89.0|       22.0|          67.0|   82|       1|\n",
              "|  2016|   RB Leipzig| 20|   7|   7|  58.82|      66.0|       39.0|          27.0|   67|       2|\n",
              "|  2016|     Dortmund| 18|   6|  10|  52.94|      72.0|       40.0|          32.0|   64|       3|\n",
              "|  2016|   Hoffenheim| 16|   4|  14|  47.06|      64.0|       37.0|          27.0|   62|       4|\n",
              "|  2016|      FC Koln| 12|   9|  13|  35.29|      51.0|       42.0|           9.0|   49|       5|\n",
              "|  2016|       Hertha| 15|  15|   4|  44.12|      43.0|       47.0|          -4.0|   49|       6|\n",
              "|  2016|     Freiburg| 14|  14|   6|  41.18|      42.0|       60.0|         -18.0|   48|       7|\n",
              "|  2016|Werder Bremen| 13|  15|   6|  38.24|      61.0|       64.0|          -3.0|   45|       8|\n",
              "|  2016|   M'gladbach| 12|  13|   9|  35.29|      45.0|       49.0|          -4.0|   45|       9|\n",
              "|  2016|   Schalke 04| 11|  13|  10|  32.35|      45.0|       40.0|           5.0|   43|      10|\n",
              "|  2016|Ein Frankfurt| 11|  14|   9|  32.35|      36.0|       43.0|          -7.0|   42|      11|\n",
              "|  2016|   Leverkusen| 11|  15|   8|  32.35|      53.0|       55.0|          -2.0|   41|      12|\n",
              "|  2016|     Augsburg|  9|  14|  11|  26.47|      35.0|       51.0|         -16.0|   38|      13|\n",
              "|  2016|      Hamburg| 10|  16|   8|  29.41|      33.0|       61.0|         -28.0|   38|      14|\n",
              "|  2016|        Mainz| 10|  17|   7|  29.41|      44.0|       55.0|         -11.0|   37|      15|\n",
              "|  2016|    Wolfsburg| 10|  17|   7|  29.41|      34.0|       52.0|         -18.0|   37|      16|\n",
              "|  2016|   Ingolstadt|  8|  18|   8|  23.53|      36.0|       57.0|         -21.0|   32|      17|\n",
              "|  2016|    Darmstadt|  7|  23|   4|  20.59|      28.0|       63.0|         -35.0|   25|      18|\n",
              "+------+-------------+---+----+----+-------+----------+-----------+--------------+-----+--------+"
            ]
          },
          "metadata": {
            "tags": []
          },
          "execution_count": 54
        }
      ]
    },
    {
      "cell_type": "code",
      "metadata": {
        "colab": {
          "base_uri": "https://localhost:8080/",
          "height": 113
        },
        "id": "hdayumUtINDN",
        "outputId": "58975a99-cc92-4c0b-9734-e3a3cfabd625"
      },
      "source": [
        "table.where( table['Season'] == 2016 ).orderBy( col('Position').desc() ).limit(3)"
      ],
      "execution_count": null,
      "outputs": [
        {
          "output_type": "execute_result",
          "data": {
            "text/html": [
              "<table border='1'>\n",
              "<tr><th>Season</th><th>Team</th><th>Win</th><th>Lost</th><th>Draw</th><th>WinRate</th><th>GoalScored</th><th>GoalAgainst</th><th>GoalDifference</th><th>Point</th><th>Position</th></tr>\n",
              "<tr><td>2016</td><td>Darmstadt</td><td>7</td><td>23</td><td>4</td><td>20.59</td><td>28.0</td><td>63.0</td><td>-35.0</td><td>25</td><td>18</td></tr>\n",
              "<tr><td>2016</td><td>Ingolstadt</td><td>8</td><td>18</td><td>8</td><td>23.53</td><td>36.0</td><td>57.0</td><td>-21.0</td><td>32</td><td>17</td></tr>\n",
              "<tr><td>2016</td><td>Wolfsburg</td><td>10</td><td>17</td><td>7</td><td>29.41</td><td>34.0</td><td>52.0</td><td>-18.0</td><td>37</td><td>16</td></tr>\n",
              "</table>\n"
            ],
            "text/plain": [
              "+------+----------+---+----+----+-------+----------+-----------+--------------+-----+--------+\n",
              "|Season|      Team|Win|Lost|Draw|WinRate|GoalScored|GoalAgainst|GoalDifference|Point|Position|\n",
              "+------+----------+---+----+----+-------+----------+-----------+--------------+-----+--------+\n",
              "|  2016| Darmstadt|  7|  23|   4|  20.59|      28.0|       63.0|         -35.0|   25|      18|\n",
              "|  2016|Ingolstadt|  8|  18|   8|  23.53|      36.0|       57.0|         -21.0|   32|      17|\n",
              "|  2016| Wolfsburg| 10|  17|   7|  29.41|      34.0|       52.0|         -18.0|   37|      16|\n",
              "+------+----------+---+----+----+-------+----------+-----------+--------------+-----+--------+"
            ]
          },
          "metadata": {
            "tags": []
          },
          "execution_count": 55
        }
      ]
    },
    {
      "cell_type": "code",
      "metadata": {
        "colab": {
          "base_uri": "https://localhost:8080/"
        },
        "id": "ntl8RVd4I8Hd",
        "outputId": "1bbc2cda-8b35-44a7-aef3-30b462dc0339"
      },
      "source": [
        "# The teams that have been relegated in the past 10 years\n",
        "w = Window.partitionBy('Season').orderBy(col('Position').desc())\n",
        "table.withColumn('row', row_number().over(w)).\\\n",
        "   filter( (col('row') == 1) | (col('row') == 2) | (col('row') == 3) ).drop('row').\\\n",
        "   show(1000, truncate=False)"
      ],
      "execution_count": null,
      "outputs": [
        {
          "output_type": "stream",
          "text": [
            "+------+------------------+---+----+----+-------+----------+-----------+--------------+-----+--------+\n",
            "|Season|Team              |Win|Lost|Draw|WinRate|GoalScored|GoalAgainst|GoalDifference|Point|Position|\n",
            "+------+------------------+---+----+----+-------+----------+-----------+--------------+-----+--------+\n",
            "|1993  |RB Leipzig        |3  |20  |11  |8.82   |32.0      |69.0       |-37.0         |20   |18      |\n",
            "|1993  |Wattenscheid      |6  |17  |11  |17.65  |48.0      |70.0       |-22.0         |29   |17      |\n",
            "|1993  |Nurnberg          |10 |16  |8   |29.41  |41.0      |55.0       |-14.0         |38   |16      |\n",
            "|1994  |Dresden           |4  |22  |8   |11.76  |33.0      |68.0       |-35.0         |20   |18      |\n",
            "|1994  |Duisburg          |6  |20  |8   |17.65  |31.0      |64.0       |-33.0         |26   |17      |\n",
            "|1994  |Bochum            |9  |21  |4   |26.47  |43.0      |67.0       |-24.0         |31   |16      |\n",
            "|1995  |Uerdingen         |5  |18  |11  |14.71  |33.0      |56.0       |-23.0         |26   |17      |\n",
            "|1995  |Ein Frankfurt     |7  |16  |11  |20.59  |43.0      |68.0       |-25.0         |32   |16      |\n",
            "|1995  |Kaiserslautern    |6  |10  |18  |17.65  |31.0      |37.0       |-6.0          |36   |15      |\n",
            "|1996  |St Pauli          |7  |21  |6   |20.59  |32.0      |69.0       |-37.0         |27   |17      |\n",
            "|1996  |Freiburg          |8  |21  |5   |23.53  |43.0      |67.0       |-24.0         |29   |16      |\n",
            "|1996  |Hansa Rostock     |11 |16  |7   |32.35  |35.0      |46.0       |-11.0         |40   |15      |\n",
            "|1997  |Bielefeld         |8  |18  |8   |23.53  |43.0      |56.0       |-13.0         |32   |18      |\n",
            "|1997  |FC Koln           |10 |18  |6   |29.41  |49.0      |64.0       |-15.0         |36   |17      |\n",
            "|1997  |Karlsruhe         |9  |14  |11  |26.47  |48.0      |60.0       |-12.0         |38   |16      |\n",
            "|1998  |M'gladbach        |4  |21  |9   |11.76  |41.0      |79.0       |-38.0         |21   |18      |\n",
            "|1998  |Bochum            |7  |19  |8   |20.59  |40.0      |65.0       |-25.0         |29   |17      |\n",
            "|1998  |Nurnberg          |7  |11  |16  |20.59  |40.0      |50.0       |-10.0         |37   |15      |\n",
            "|1999  |Duisburg          |4  |20  |10  |11.76  |37.0      |71.0       |-34.0         |22   |18      |\n",
            "|1999  |Bielefeld         |7  |18  |9   |20.59  |40.0      |61.0       |-21.0         |30   |17      |\n",
            "|1999  |Ulm               |9  |17  |8   |26.47  |36.0      |62.0       |-26.0         |35   |16      |\n",
            "|2000  |Bochum            |7  |21  |6   |20.59  |30.0      |67.0       |-37.0         |27   |18      |\n",
            "|2000  |Ein Frankfurt     |10 |19  |5   |29.41  |41.0      |68.0       |-27.0         |35   |17      |\n",
            "|2000  |Unterhaching      |8  |15  |11  |23.53  |35.0      |59.0       |-24.0         |35   |16      |\n",
            "|2001  |St Pauli          |4  |20  |10  |11.76  |37.0      |70.0       |-33.0         |22   |18      |\n",
            "|2001  |FC Koln           |7  |19  |8   |20.59  |26.0      |61.0       |-35.0         |29   |17      |\n",
            "|2001  |Freiburg          |7  |18  |9   |20.59  |37.0      |64.0       |-27.0         |30   |16      |\n",
            "|2002  |Cottbus           |7  |18  |9   |20.59  |34.0      |64.0       |-30.0         |30   |18      |\n",
            "|2002  |Nurnberg          |8  |20  |6   |23.53  |33.0      |60.0       |-27.0         |30   |17      |\n",
            "|2002  |Bielefeld         |8  |14  |12  |23.53  |35.0      |46.0       |-11.0         |36   |16      |\n",
            "|2003  |FC Koln           |6  |23  |5   |17.65  |32.0      |57.0       |-25.0         |23   |18      |\n",
            "|2003  |Munich 1860       |8  |18  |8   |23.53  |32.0      |55.0       |-23.0         |32   |17      |\n",
            "|2003  |Ein Frankfurt     |9  |20  |5   |26.47  |36.0      |53.0       |-17.0         |32   |16      |\n",
            "|2004  |Freiburg          |3  |22  |9   |8.82   |30.0      |75.0       |-45.0         |18   |18      |\n",
            "|2004  |Hansa Rostock     |7  |18  |9   |20.59  |31.0      |65.0       |-34.0         |30   |17      |\n",
            "|2004  |Bochum            |9  |17  |8   |26.47  |47.0      |68.0       |-21.0         |35   |16      |\n",
            "|2005  |Duisburg          |5  |17  |12  |14.71  |34.0      |63.0       |-29.0         |27   |18      |\n",
            "|2005  |FC Koln           |7  |18  |9   |20.59  |49.0      |71.0       |-22.0         |30   |17      |\n",
            "|2005  |Kaiserslautern    |8  |17  |9   |23.53  |47.0      |71.0       |-24.0         |33   |16      |\n",
            "|2006  |M'gladbach        |6  |20  |8   |17.65  |23.0      |44.0       |-21.0         |26   |18      |\n",
            "|2006  |Aachen            |9  |18  |7   |26.47  |46.0      |70.0       |-24.0         |34   |17      |\n",
            "|2006  |Mainz             |8  |16  |10  |23.53  |34.0      |57.0       |-23.0         |34   |16      |\n",
            "|2007  |Duisburg          |8  |21  |5   |23.53  |36.0      |55.0       |-19.0         |29   |18      |\n",
            "|2007  |Hansa Rostock     |8  |20  |6   |23.53  |30.0      |52.0       |-22.0         |30   |17      |\n",
            "|2007  |Nurnberg          |7  |17  |10  |20.59  |35.0      |51.0       |-16.0         |31   |16      |\n",
            "|2008  |Bielefeld         |4  |14  |16  |11.76  |29.0      |56.0       |-27.0         |28   |18      |\n",
            "|2008  |Karlsruhe         |8  |21  |5   |23.53  |30.0      |54.0       |-24.0         |29   |17      |\n",
            "|2008  |Cottbus           |8  |20  |6   |23.53  |30.0      |57.0       |-27.0         |30   |16      |\n",
            "|2009  |Hertha            |5  |20  |9   |14.71  |34.0      |56.0       |-22.0         |24   |18      |\n",
            "|2009  |Bochum            |6  |18  |10  |17.65  |33.0      |64.0       |-31.0         |28   |17      |\n",
            "|2009  |Nurnberg          |8  |19  |7   |23.53  |32.0      |58.0       |-26.0         |31   |16      |\n",
            "|2010  |St Pauli          |8  |21  |5   |23.53  |35.0      |68.0       |-33.0         |29   |18      |\n",
            "|2010  |Ein Frankfurt     |9  |18  |7   |26.47  |31.0      |49.0       |-18.0         |34   |17      |\n",
            "|2010  |M'gladbach        |10 |18  |6   |29.41  |48.0      |65.0       |-17.0         |36   |16      |\n",
            "|2011  |Kaiserslautern    |4  |19  |11  |11.76  |24.0      |54.0       |-30.0         |23   |18      |\n",
            "|2011  |FC Koln           |8  |20  |6   |23.53  |39.0      |75.0       |-36.0         |30   |17      |\n",
            "|2011  |Hertha            |7  |17  |10  |20.59  |38.0      |64.0       |-26.0         |31   |16      |\n",
            "|2012  |Greuther Furth    |4  |21  |9   |11.76  |26.0      |60.0       |-34.0         |21   |18      |\n",
            "|2012  |Fortuna Dusseldorf|7  |18  |9   |20.59  |39.0      |57.0       |-18.0         |30   |17      |\n",
            "|2012  |Hoffenheim        |8  |19  |7   |23.53  |42.0      |67.0       |-25.0         |31   |16      |\n",
            "|2013  |Braunschweig      |6  |21  |7   |17.65  |29.0      |60.0       |-31.0         |25   |18      |\n",
            "|2013  |Nurnberg          |5  |18  |11  |14.71  |37.0      |70.0       |-33.0         |26   |17      |\n",
            "|2013  |Hamburg           |7  |21  |6   |20.59  |51.0      |75.0       |-24.0         |27   |16      |\n",
            "|2014  |Paderborn         |7  |17  |10  |20.59  |31.0      |65.0       |-34.0         |31   |18      |\n",
            "|2014  |Freiburg          |7  |14  |13  |20.59  |36.0      |47.0       |-11.0         |34   |17      |\n",
            "|2014  |Hamburg           |9  |17  |8   |26.47  |25.0      |50.0       |-25.0         |35   |16      |\n",
            "|2015  |Hannover          |7  |23  |4   |20.59  |31.0      |62.0       |-31.0         |25   |18      |\n",
            "|2015  |Stuttgart         |9  |19  |6   |26.47  |50.0      |75.0       |-25.0         |33   |17      |\n",
            "|2015  |Ein Frankfurt     |9  |16  |9   |26.47  |34.0      |52.0       |-18.0         |36   |16      |\n",
            "|2016  |Darmstadt         |7  |23  |4   |20.59  |28.0      |63.0       |-35.0         |25   |18      |\n",
            "|2016  |Ingolstadt        |8  |18  |8   |23.53  |36.0      |57.0       |-21.0         |32   |17      |\n",
            "|2016  |Wolfsburg         |10 |17  |7   |29.41  |34.0      |52.0       |-18.0         |37   |16      |\n",
            "+------+------------------+---+----+----+-------+----------+-----------+--------------+-----+--------+\n",
            "\n"
          ],
          "name": "stdout"
        }
      ]
    },
    {
      "cell_type": "markdown",
      "metadata": {
        "id": "D1P7W6oEOSke"
      },
      "source": [
        "# Dominating teams"
      ]
    },
    {
      "cell_type": "code",
      "metadata": {
        "colab": {
          "base_uri": "https://localhost:8080/"
        },
        "id": "O7jjFU6tOWc0",
        "outputId": "a89760c2-3aa7-4619-e2c9-7b0e74431977"
      },
      "source": [
        "table_df.where( (col('Season') >= 2000) & (col('Season') <= 2010) ).groupBy('Team').agg( count('Team').alias('TotalChampionships'),\\\n",
        "                              round(avg('WinRate'), 2).alias('AvgWinRate'),\\\n",
        "                              round(avg('GoalScored'), 2).alias('GoalsScored'),\\\n",
        "                              round(avg('GoalAgainst'), 2).alias('GoalsAgainst'),\\\n",
        "                             round(avg('Win')).alias('AvgWin'),\\\n",
        "                             round(avg('Lost')).alias('AvgLost'),\\\n",
        "                             round(avg('Draw')).alias('AvgDraw') ).orderBy( desc('TotalChampionships') ).show()"
      ],
      "execution_count": null,
      "outputs": [
        {
          "output_type": "stream",
          "text": [
            "+-------------+------------------+----------+-----------+------------+------+-------+-------+\n",
            "|         Team|TotalChampionships|AvgWinRate|GoalsScored|GoalsAgainst|AvgWin|AvgLost|AvgDraw|\n",
            "+-------------+------------------+----------+-----------+------------+------+-------+-------+\n",
            "|Bayern Munich|                 6|     63.73|       69.0|       29.83|  22.0|    5.0|    8.0|\n",
            "|     Dortmund|                 2|     64.71|       64.5|        27.5|  22.0|    6.0|    7.0|\n",
            "|    Wolfsburg|                 1|     61.76|       80.0|        41.0|  21.0|    7.0|    6.0|\n",
            "|Werder Bremen|                 1|     64.71|       79.0|        38.0|  22.0|    4.0|    8.0|\n",
            "|    Stuttgart|                 1|     61.76|       61.0|        37.0|  21.0|    6.0|    7.0|\n",
            "+-------------+------------------+----------+-----------+------------+------+-------+-------+\n",
            "\n"
          ],
          "name": "stdout"
        }
      ]
    },
    {
      "cell_type": "markdown",
      "metadata": {
        "id": "MNQIYCdNR-GM"
      },
      "source": [
        "Bayern Munich has been the destroying team"
      ]
    }
  ]
}